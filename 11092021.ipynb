{
 "cells": [
  {
   "cell_type": "code",
   "execution_count": 1,
   "id": "7a14ae18",
   "metadata": {},
   "outputs": [
    {
     "name": "stdout",
     "output_type": "stream",
     "text": [
      "10\n"
     ]
    }
   ],
   "source": [
    "class Myclass:\n",
    "    var1 = 10\n",
    "    \n",
    "obj1 = Myclass()\n",
    "print(obj1.var1)"
   ]
  },
  {
   "cell_type": "code",
   "execution_count": 2,
   "id": "056e4385",
   "metadata": {},
   "outputs": [
    {
     "name": "stdout",
     "output_type": "stream",
     "text": [
      "Name :-  Dogu\n",
      "Employee ID :-  34163\n",
      "Thanks for joining ABC company Dogu!!\n"
     ]
    }
   ],
   "source": [
    "class Employee:\n",
    "    def __init__(self, name, empid):\n",
    "        self.name = name\n",
    "        self.empid = empid\n",
    "        \n",
    "    def greet(self):\n",
    "        print(\"Thanks for joining ABC company {}!!\".format(self.name))\n",
    "        \n",
    "emp1 = Employee(\"Dogu\", 34163) #bir employee nesnesi yarattık\n",
    "\n",
    "print('Name :- ', emp1.name)\n",
    "print('Employee ID :- ', emp1.empid)\n",
    "emp1.greet()"
   ]
  },
  {
   "cell_type": "code",
   "execution_count": 3,
   "id": "cc617b53",
   "metadata": {},
   "outputs": [
    {
     "data": {
      "text/plain": [
       "'Bati'"
      ]
     },
     "execution_count": 3,
     "metadata": {},
     "output_type": "execute_result"
    }
   ],
   "source": [
    "emp1.name = 'Bati'\n",
    "emp1.name"
   ]
  },
  {
   "cell_type": "code",
   "execution_count": 4,
   "id": "dd1ed770",
   "metadata": {},
   "outputs": [
    {
     "ename": "AttributeError",
     "evalue": "'Employee' object has no attribute 'empid'",
     "output_type": "error",
     "traceback": [
      "\u001b[1;31m---------------------------------------------------------------------------\u001b[0m",
      "\u001b[1;31mAttributeError\u001b[0m                            Traceback (most recent call last)",
      "\u001b[1;32m<ipython-input-4-3bd7df91569c>\u001b[0m in \u001b[0;36m<module>\u001b[1;34m\u001b[0m\n\u001b[0;32m      1\u001b[0m \u001b[1;32mdel\u001b[0m \u001b[0memp1\u001b[0m\u001b[1;33m.\u001b[0m\u001b[0mempid\u001b[0m\u001b[1;33m\u001b[0m\u001b[1;33m\u001b[0m\u001b[0m\n\u001b[1;32m----> 2\u001b[1;33m \u001b[0memp1\u001b[0m\u001b[1;33m.\u001b[0m\u001b[0mempid\u001b[0m\u001b[1;33m\u001b[0m\u001b[1;33m\u001b[0m\u001b[0m\n\u001b[0m",
      "\u001b[1;31mAttributeError\u001b[0m: 'Employee' object has no attribute 'empid'"
     ]
    }
   ],
   "source": [
    "del emp1.empid\n",
    "emp1.empid"
   ]
  },
  {
   "cell_type": "code",
   "execution_count": 5,
   "id": "005f283e",
   "metadata": {},
   "outputs": [
    {
     "ename": "NameError",
     "evalue": "name 'emp1' is not defined",
     "output_type": "error",
     "traceback": [
      "\u001b[1;31m---------------------------------------------------------------------------\u001b[0m",
      "\u001b[1;31mNameError\u001b[0m                                 Traceback (most recent call last)",
      "\u001b[1;32m<ipython-input-5-0b43e47f34a0>\u001b[0m in \u001b[0;36m<module>\u001b[1;34m\u001b[0m\n\u001b[0;32m      1\u001b[0m \u001b[1;32mdel\u001b[0m \u001b[0memp1\u001b[0m\u001b[1;33m\u001b[0m\u001b[1;33m\u001b[0m\u001b[0m\n\u001b[1;32m----> 2\u001b[1;33m \u001b[0memp1\u001b[0m\u001b[1;33m\u001b[0m\u001b[1;33m\u001b[0m\u001b[0m\n\u001b[0m",
      "\u001b[1;31mNameError\u001b[0m: name 'emp1' is not defined"
     ]
    }
   ],
   "source": [
    "del emp1\n",
    "emp1"
   ]
  },
  {
   "cell_type": "code",
   "execution_count": 6,
   "id": "d6aee2f5",
   "metadata": {},
   "outputs": [
    {
     "name": "stdout",
     "output_type": "stream",
     "text": [
      "Name :-  Michael\n",
      "Employee ID :-  34162\n",
      "Thanks for joining ABC company Michael!!\n"
     ]
    }
   ],
   "source": [
    "emp2 = Employee(\"Michael\", 34162)\n",
    "\n",
    "print('Name :- ', emp2.name)\n",
    "print('Employee ID :- ', emp2.empid)\n",
    "emp2.greet()"
   ]
  },
  {
   "cell_type": "code",
   "execution_count": 7,
   "id": "ed2bcf02",
   "metadata": {},
   "outputs": [
    {
     "data": {
      "text/plain": [
       "'United States of America'"
      ]
     },
     "execution_count": 7,
     "metadata": {},
     "output_type": "execute_result"
    }
   ],
   "source": [
    "emp2.country = 'United States of America'\n",
    "emp2.country"
   ]
  },
  {
   "cell_type": "code",
   "execution_count": null,
   "id": "33ecf604",
   "metadata": {},
   "outputs": [],
   "source": [
    "#inheritance, #IS A relationship\n",
    "#Student (Sub, Derived, Child Class) IS A Person (Parent, Base, Super Class)"
   ]
  },
  {
   "cell_type": "code",
   "execution_count": 10,
   "id": "f1193f7f",
   "metadata": {},
   "outputs": [
    {
     "name": "stdout",
     "output_type": "stream",
     "text": [
      "Student Details\n",
      "---------------\n",
      "Student ID :- 123\n",
      "Fees :- 1200\n",
      "\n",
      "Employee Details\n",
      "---------------\n",
      "Name :- Bati\n",
      "Age :- 36\n",
      "Gender :- Male\n",
      "Employee ID :- 456\n",
      "Salary :- 80000\n"
     ]
    }
   ],
   "source": [
    "class Person: #Parent sınıf\n",
    "    def __init__(self, name, age, gender):\n",
    "        self.name = name\n",
    "        self.age  = age\n",
    "        self.gender = gender\n",
    "        \n",
    "    def PersonInfo(self):\n",
    "        print('Name :- {}'.format(self.name))\n",
    "        print('Age :- {}'.format(self.age))\n",
    "        print('Gender :- {}'.format(self.gender))\n",
    "        \n",
    "class Student(Person): #Child sınıf\n",
    "    def __init__(self, name, age, gender, studentID, fees):\n",
    "        Person.__init__(self, name, age, gender)\n",
    "        self.studentID = studentID\n",
    "        self.fees = fees\n",
    "        \n",
    "    def StudentInfo(self):\n",
    "        print('Student ID :- {}'.format(self.studentID))\n",
    "        print('Fees :- {}'.format(self.fees))\n",
    "        \n",
    "\n",
    "class Teacher(Person): #Child sınıf\n",
    "    def __init__(self, name, age, gender, empid, salary):\n",
    "        Person.__init__(self, name, age, gender)\n",
    "        self.empid = empid\n",
    "        self.salary = salary\n",
    "        \n",
    "    def TeacherInfo(self):\n",
    "        print('Employee ID :- {}'.format(self.empid))\n",
    "        print('Salary :- {}'.format(self.salary))\n",
    "        \n",
    "        \n",
    "stud1 = Student('Dogu', 24, 'Male', 123, 1200)\n",
    "print('Student Details')\n",
    "print('---------------')\n",
    "stud1.PersonInfo()\n",
    "stud1.StudentInfo()\n",
    "print()\n",
    "\n",
    "teacher1 = Teacher('Bati', 36, 'Male', 456, 80000)\n",
    "print('Employee Details')\n",
    "print('---------------')\n",
    "teacher1.PersonInfo()\n",
    "teacher1.TeacherInfo()\n"
   ]
  },
  {
   "cell_type": "code",
   "execution_count": 13,
   "id": "1a4e08b1",
   "metadata": {},
   "outputs": [
    {
     "name": "stdout",
     "output_type": "stream",
     "text": [
      "Name :- Dogu\n",
      "Age :- 24\n",
      "Gender :- Male\n",
      "Student ID :- 123\n",
      "Fees :- 1200\n"
     ]
    }
   ],
   "source": [
    "class Person: #Parent sınıf\n",
    "    def __init__(self, name, age, gender):\n",
    "        self.name = name\n",
    "        self.age  = age\n",
    "        self.gender = gender\n",
    "        \n",
    "    def PersonInfo(self):\n",
    "        print('Name :- {}'.format(self.name))\n",
    "        print('Age :- {}'.format(self.age))\n",
    "        print('Gender :- {}'.format(self.gender))\n",
    "        \n",
    "class Student(Person):\n",
    "    def __init__(self, name, age, gender, studentID, fees):\n",
    "        super().__init__(name, age, gender)\n",
    "        self.studentID = studentID\n",
    "        self.fees = fees\n",
    "    \n",
    "    def StudentInfo(self):\n",
    "        super().PersonInfo()\n",
    "        print('Student ID :- {}'.format(self.studentID))\n",
    "        print('Fees :- {}'.format(self.fees))\n",
    "        \n",
    "stud = Student('Dogu', 24, 'Male', 123, 1200)\n",
    "stud.StudentInfo()"
   ]
  },
  {
   "cell_type": "code",
   "execution_count": null,
   "id": "2242ae9f",
   "metadata": {},
   "outputs": [],
   "source": [
    "#multi-level inheritance"
   ]
  },
  {
   "cell_type": "code",
   "execution_count": 14,
   "id": "3875fb48",
   "metadata": {},
   "outputs": [
    {
     "name": "stdout",
     "output_type": "stream",
     "text": [
      "Contractual Employee Details\n",
      "****************************\n",
      "Name :- Bati\n",
      "Age :- 36\n",
      "Gender :- Male\n",
      "Employee ID :- 456\n",
      "Salary :- 80000\n",
      "Contract Expiry :- 31-12-2021\n",
      "\n",
      " \n",
      "\n",
      "Fulltime Employee Details\n",
      "*************************\n",
      "Name :- Dogu\n",
      "Age :- 22\n",
      "Gender :- Male\n",
      "Employee ID :- 567\n",
      "Salary :- 70000\n",
      "Work Experience :- 12\n"
     ]
    }
   ],
   "source": [
    "class Person: #Parent sınıf\n",
    "    def __init__(self, name, age, gender):\n",
    "        self.name = name\n",
    "        self.age  = age\n",
    "        self.gender = gender\n",
    "        \n",
    "    def PersonInfo(self):\n",
    "        print('Name :- {}'.format(self.name))\n",
    "        print('Age :- {}'.format(self.age))\n",
    "        print('Gender :- {}'.format(self.gender))\n",
    "\n",
    "class Employee(Person): #Child sınıf\n",
    "    def __init__(self, name, age, gender, empid, salary):\n",
    "        Person.__init__(self, name, age, gender)\n",
    "        self.empid = empid\n",
    "        self.salary = salary\n",
    "        \n",
    "    def EmployeeInfo(self):\n",
    "        print('Employee ID :- {}'.format(self.empid))\n",
    "        print('Salary :- {}'.format(self.salary))\n",
    "\n",
    "        \n",
    "class Fulltime(Employee): #Grandchild Sınıf\n",
    "    def __init__(self, name, age, gender, empid, salary, WorkExperience):\n",
    "        Employee.__init__(self, name, age, gender, empid, salary)\n",
    "        self.WorkExperience = WorkExperience\n",
    "        \n",
    "    def FulltimeInfo(self):\n",
    "        print('Work Experience :- {}'.format(self.WorkExperience))\n",
    "        \n",
    "class Contractual(Employee): #Grandchild Sınıf\n",
    "    def __init__(self, name, age, gender, empid, salary, ContractExpiry):\n",
    "        Employee.__init__(self, name, age, gender, empid, salary)\n",
    "        self.ContractExpiry = ContractExpiry\n",
    "        \n",
    "    def ContractInfo(self):\n",
    "        print('Contract Expiry :- {}'.format(self.ContractExpiry))\n",
    "        \n",
    "print('Contractual Employee Details')\n",
    "print('****************************')\n",
    "contract1 = Contractual('Bati', 36, 'Male', 456, 80000, '31-12-2021')\n",
    "contract1.PersonInfo()\n",
    "contract1.EmployeeInfo()\n",
    "contract1.ContractInfo()\n",
    "    \n",
    "print('\\n \\n')\n",
    "\n",
    "print('Fulltime Employee Details')\n",
    "print('*************************')\n",
    "fulltim1 = Fulltime('Dogu', 22, 'Male', 567, 70000, 12)\n",
    "fulltim1.PersonInfo()\n",
    "fulltim1.EmployeeInfo()\n",
    "fulltim1.FulltimeInfo()"
   ]
  },
  {
   "cell_type": "code",
   "execution_count": null,
   "id": "1c4aa246",
   "metadata": {},
   "outputs": [],
   "source": [
    "#multiple inheritence"
   ]
  },
  {
   "cell_type": "code",
   "execution_count": 15,
   "id": "52ec4db6",
   "metadata": {},
   "outputs": [
    {
     "name": "stdout",
     "output_type": "stream",
     "text": [
      "My Name :-  Bill\n",
      "Father :-  John\n",
      "Mother :-  Kristen\n"
     ]
    }
   ],
   "source": [
    "class Father: #super sınıf\n",
    "    def __init__(self):\n",
    "        self.fathername = str()\n",
    "        \n",
    "class Mother: #super sınıf\n",
    "    def __init__(self):\n",
    "        self.mothername = str()\n",
    "        \n",
    "class Son(Father, Mother): #Sub sınıf\n",
    "    name = str()\n",
    "    def show(self):\n",
    "        print('My Name :- ', self.name)\n",
    "        print('Father :- ', self.fathername)\n",
    "        print('Mother :- ', self.mothername)\n",
    "        \n",
    "s1 = Son()\n",
    "s1.name = 'Bill'\n",
    "s1.fathername = 'John'\n",
    "s1.mothername = 'Kristen'\n",
    "s1.show()"
   ]
  },
  {
   "cell_type": "code",
   "execution_count": 18,
   "id": "7215ddcc",
   "metadata": {},
   "outputs": [
    {
     "name": "stdout",
     "output_type": "stream",
     "text": [
      "2021-09-11 12:34:50\n"
     ]
    }
   ],
   "source": [
    "class CurrentDate:\n",
    "    def __init__(self, date):\n",
    "        self.date = date\n",
    "        \n",
    "class CurrentTime:\n",
    "    def __init__(self, time):\n",
    "        self.time = time\n",
    "        \n",
    "class Timestamp(CurrentDate, CurrentTime):\n",
    "    def __init__(self, date, time):\n",
    "        CurrentDate.__init__(self, date)\n",
    "        CurrentTime.__init__(self, time)\n",
    "        DateTime = self.date + ' ' + self.time\n",
    "        print(DateTime)\n",
    "        \n",
    "datetime1 = Timestamp('2021-09-11', '12:34:50')"
   ]
  },
  {
   "cell_type": "code",
   "execution_count": null,
   "id": "f9e02aa4",
   "metadata": {},
   "outputs": [],
   "source": [
    "#method overriding"
   ]
  },
  {
   "cell_type": "code",
   "execution_count": 19,
   "id": "0a13aaf5",
   "metadata": {},
   "outputs": [
    {
     "name": "stdout",
     "output_type": "stream",
     "text": [
      "Hello Student\n",
      "Hello Person\n"
     ]
    }
   ],
   "source": [
    "class Person: #parent sınıf\n",
    "    def __init__(self, name, age, gender):\n",
    "        self.name = name\n",
    "        self.age = age\n",
    "        self.gender = gender\n",
    "        \n",
    "    def greet(self):\n",
    "        print('Hello Person')\n",
    "        \n",
    "class Student(Person): #Child sınıf\n",
    "    def __init__(self, name, age, gender, studentID, fees):\n",
    "        Person.__init__(self, name, age, gender)\n",
    "        self.studentID = studentID\n",
    "        self.fees = fees\n",
    "        \n",
    "    def greet(self):\n",
    "        print('Hello Student')\n",
    "        \n",
    "stud = Student('Gabriel', 56, 'Male', 45, 345678)\n",
    "stud.greet()\n",
    "\n",
    "person1 = Person('Gabriel', 56, 'Male')\n",
    "person1.greet()"
   ]
  },
  {
   "cell_type": "code",
   "execution_count": null,
   "id": "b795c6e1",
   "metadata": {},
   "outputs": [],
   "source": [
    "#str() -> nesnenin string versiyonunu döndürür.\n",
    "#repr() -> nesnenin bastırılabilir(printable) bir temsilini döndürür. "
   ]
  },
  {
   "cell_type": "code",
   "execution_count": 22,
   "id": "71a981f0",
   "metadata": {},
   "outputs": [
    {
     "name": "stdout",
     "output_type": "stream",
     "text": [
      "[103, 206, 309, 412, 515]\n"
     ]
    }
   ],
   "source": [
    "class SumList(object):\n",
    "    def __init__(self, my_list):\n",
    "        self.mylist = my_list\n",
    "        \n",
    "    def __add__(self, other):\n",
    "        new_list = [x + y for x, y in zip(self.mylist, other.mylist)]\n",
    "        return SumList(new_list)\n",
    "    \n",
    "    def __repr__(self):\n",
    "        return str(self.mylist)\n",
    "    \n",
    "aa = SumList([3, 6, 9, 12, 15])\n",
    "bb = SumList([100, 200, 300, 400, 500])\n",
    "cc = aa + bb # aa.__add__(bb)\n",
    "print(cc)"
   ]
  },
  {
   "cell_type": "code",
   "execution_count": 20,
   "id": "ab5457fe",
   "metadata": {},
   "outputs": [
    {
     "name": "stdout",
     "output_type": "stream",
     "text": [
      "[('Python', 18), ('Cobol', 10), ('Javascript', 6)]\n"
     ]
    }
   ],
   "source": [
    "languages = ['Python', 'Cobol', 'Javascript']\n",
    "versions = [18, 10, 6]\n",
    "\n",
    "result = zip(languages, versions)\n",
    "print(list(result))"
   ]
  },
  {
   "cell_type": "code",
   "execution_count": 28,
   "id": "8dff9b93",
   "metadata": {},
   "outputs": [],
   "source": [
    "class NegativeNumberException(RuntimeError):\n",
    "    def __init__(self, age):\n",
    "        super().__init__()\n",
    "        self.age = age"
   ]
  },
  {
   "cell_type": "code",
   "execution_count": 31,
   "id": "c8cc0467",
   "metadata": {},
   "outputs": [
    {
     "name": "stdout",
     "output_type": "stream",
     "text": [
      "Yasinizi giriniz: -2\n",
      "Bir yerde hata yapıyorsun\n"
     ]
    }
   ],
   "source": [
    "from NegativeNumberException import NegativeNumberException\n",
    "\n",
    "def myenter(age):\n",
    "    if age < 0:\n",
    "        raise NegativeNumberException('Yalnizca positive tamsayılara izin var')\n",
    "        \n",
    "    if age % 2 == 0:\n",
    "        print('Age is Even')\n",
    "        \n",
    "    else:\n",
    "        print('Age is Odd')\n",
    "        \n",
    "        \n",
    "try:\n",
    "    num = int(input('Yasinizi giriniz: '))\n",
    "    myenter(num)\n",
    "    \n",
    "except NegativeNumberException:\n",
    "    print('Yalnizca pozitif tamsayılara izin var')\n",
    "    \n",
    "except:\n",
    "    print('Bir yerde hata yapıyorsun')"
   ]
  },
  {
   "cell_type": "code",
   "execution_count": null,
   "id": "f72b6786",
   "metadata": {},
   "outputs": [],
   "source": []
  }
 ],
 "metadata": {
  "kernelspec": {
   "display_name": "Python 3",
   "language": "python",
   "name": "python3"
  },
  "language_info": {
   "codemirror_mode": {
    "name": "ipython",
    "version": 3
   },
   "file_extension": ".py",
   "mimetype": "text/x-python",
   "name": "python",
   "nbconvert_exporter": "python",
   "pygments_lexer": "ipython3",
   "version": "3.8.8"
  }
 },
 "nbformat": 4,
 "nbformat_minor": 5
}
