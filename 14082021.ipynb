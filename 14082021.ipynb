{
 "cells": [
  {
   "cell_type": "code",
   "execution_count": 1,
   "id": "a0393819",
   "metadata": {},
   "outputs": [
    {
     "name": "stdout",
     "output_type": "stream",
     "text": [
      "Bu doğru bir ifade!\n"
     ]
    }
   ],
   "source": [
    "if 2 > 1:\n",
    "    print('Bu doğru bir ifade!')"
   ]
  },
  {
   "cell_type": "code",
   "execution_count": 2,
   "id": "4550b02d",
   "metadata": {},
   "outputs": [],
   "source": [
    "var1 = 1\n",
    "var2 = 3\n",
    "if var1 > var2:\n",
    "    print('Bu ifade de ayrıca doğru!!')"
   ]
  },
  {
   "cell_type": "code",
   "execution_count": 3,
   "id": "1c010f94",
   "metadata": {},
   "outputs": [
    {
     "name": "stdout",
     "output_type": "stream",
     "text": [
      "Bu ifade hatalı!!\n"
     ]
    }
   ],
   "source": [
    "if var1 > var2:\n",
    "    print('Bu ifade de ayrıca doğru!!')\n",
    "else:\n",
    "    print('Bu ifade hatalı!!')"
   ]
  },
  {
   "cell_type": "code",
   "execution_count": 6,
   "id": "9e79da2d",
   "metadata": {},
   "outputs": [
    {
     "name": "stdout",
     "output_type": "stream",
     "text": [
      "Şuradaki çikolata ne kadar? 35\n",
      "Wow! Bu fiyat beni aşar!\n"
     ]
    }
   ],
   "source": [
    "value = int(input(\"Şuradaki çikolata ne kadar? \"))\n",
    "\n",
    "if value < 10:\n",
    "    print('Bu çok iyi bir fiyat')\n",
    "elif 10 <= value <= 20:\n",
    "    print(\"Eh işte, ama yine de ödeyeceğim...\")\n",
    "else:\n",
    "    print(\"Wow! Bu fiyat beni aşar!\")"
   ]
  },
  {
   "cell_type": "code",
   "execution_count": 7,
   "id": "a4ce2abb",
   "metadata": {},
   "outputs": [
    {
     "name": "stdout",
     "output_type": "stream",
     "text": [
      "Bu ifade doğru!!\n"
     ]
    }
   ],
   "source": [
    "x = 10\n",
    "y = 20\n",
    "\n",
    "if x < 10 or y > 15:\n",
    "    print('Bu ifade doğru!!')"
   ]
  },
  {
   "cell_type": "code",
   "execution_count": 8,
   "id": "c3d5d136",
   "metadata": {},
   "outputs": [
    {
     "name": "stdout",
     "output_type": "stream",
     "text": [
      "Bu ifade hatalı!!\n"
     ]
    }
   ],
   "source": [
    "x = 10\n",
    "y = 10\n",
    "\n",
    "if x == 10 and y == 15:\n",
    "    print(\"Bu ifade doğru!!\")\n",
    "else:\n",
    "    print(\"Bu ifade hatalı!!\")"
   ]
  },
  {
   "cell_type": "code",
   "execution_count": 9,
   "id": "0e1aa0ac",
   "metadata": {},
   "outputs": [
    {
     "name": "stdout",
     "output_type": "stream",
     "text": [
      "'x' listemizde değil, dolayısıyla ifade doğru!!\n"
     ]
    }
   ],
   "source": [
    "my_list = [1, 2, 3, 4]\n",
    "x = 10\n",
    "if x not in my_list:\n",
    "    print(\"'x' listemizde değil, dolayısıyla ifade doğru!!\")"
   ]
  },
  {
   "cell_type": "code",
   "execution_count": 10,
   "id": "bcebe0a3",
   "metadata": {},
   "outputs": [
    {
     "name": "stdout",
     "output_type": "stream",
     "text": [
      "x 11'e eşit değil!!\n"
     ]
    }
   ],
   "source": [
    "x = 10\n",
    "if x != 11:\n",
    "    print(\"x 11'e eşit değil!!\")"
   ]
  },
  {
   "cell_type": "code",
   "execution_count": 11,
   "id": "22e9e298",
   "metadata": {},
   "outputs": [
    {
     "name": "stdout",
     "output_type": "stream",
     "text": [
      "Bu doğru bir ifade!!\n"
     ]
    }
   ],
   "source": [
    "my_list = [1, 2, 3, 4]\n",
    "x = 10\n",
    "z = 11\n",
    "if x not in my_list and z != 10:\n",
    "    print('Bu doğru bir ifade!!')"
   ]
  },
  {
   "cell_type": "code",
   "execution_count": 12,
   "id": "7ac03997",
   "metadata": {},
   "outputs": [
    {
     "name": "stdout",
     "output_type": "stream",
     "text": [
      "Bu boş bir listedir\n",
      "Bu boş bir string ifadesidir\n",
      "Bu hiçbir şeye karşılık gelmiyor\n"
     ]
    }
   ],
   "source": [
    "empty_list = []\n",
    "empty_tuple = ()\n",
    "empty_string = \"\"\n",
    "nothing = None\n",
    "\n",
    "if empty_list == []:\n",
    "    print(\"Bu boş bir listedir\")\n",
    "    \n",
    "if empty_tuple:\n",
    "    print(\"Bu boş bir tuple değil!!\")\n",
    "    \n",
    "if not empty_string:\n",
    "    print(\"Bu boş bir string ifadesidir\")\n",
    "    \n",
    "if not nothing:\n",
    "    print(\"Bu hiçbir şeye karşılık gelmiyor\")"
   ]
  },
  {
   "cell_type": "code",
   "execution_count": 13,
   "id": "0d0520d7",
   "metadata": {},
   "outputs": [],
   "source": [
    "empty_string = \"something\"\n",
    "if empty_string == \"\":\n",
    "    print(\"Bu boş bir string ifadesidir\")"
   ]
  },
  {
   "cell_type": "code",
   "execution_count": 14,
   "id": "01abb107",
   "metadata": {},
   "outputs": [
    {
     "data": {
      "text/plain": [
       "False"
      ]
     },
     "execution_count": 14,
     "metadata": {},
     "output_type": "execute_result"
    }
   ],
   "source": [
    "empty_list == empty_string"
   ]
  },
  {
   "cell_type": "code",
   "execution_count": 15,
   "id": "06cbdf09",
   "metadata": {},
   "outputs": [
    {
     "data": {
      "text/plain": [
       "False"
      ]
     },
     "execution_count": 15,
     "metadata": {},
     "output_type": "execute_result"
    }
   ],
   "source": [
    "empty_string == nothing"
   ]
  },
  {
   "cell_type": "code",
   "execution_count": 17,
   "id": "537506fe",
   "metadata": {},
   "outputs": [
    {
     "name": "stdout",
     "output_type": "stream",
     "text": [
      "Şifreyi giriniz:merhaba1234\n",
      "Üzgünüm, yanlış şifre girdiniz!!\n"
     ]
    }
   ],
   "source": [
    "password = input('Şifreyi giriniz:')\n",
    "\n",
    "if password == 'prospero':\n",
    "    print(\"Şifre kabul edilmiştir.\")\n",
    "else:\n",
    "    print(\"Üzgünüm, yanlış şifre girdiniz!!\")"
   ]
  },
  {
   "cell_type": "code",
   "execution_count": 20,
   "id": "d0116d56",
   "metadata": {},
   "outputs": [
    {
     "name": "stdout",
     "output_type": "stream",
     "text": [
      "What is your name? Programming\n",
      "What is the password? Languages\n",
      "Welcome Programming Languages\n"
     ]
    }
   ],
   "source": [
    "name = input(\"What is your name? \")\n",
    "password = input(\"What is the password? \")\n",
    "\n",
    "if name == \"Ecodation\" and password == \"Python\":\n",
    "    print(\"Welcome Ecodation Python\")\n",
    "    \n",
    "elif name == \"Programming\" and password == \"Languages\":\n",
    "    print(\"Welcome Programming Languages\")\n",
    "    \n",
    "elif name == \"Bugun\" and password == \"Cumartesi\":\n",
    "    print(\"Bugün günlerden Cumartesi\")\n",
    "    \n",
    "else:\n",
    "    print(\"Kim olduğunuzu tanıyamadım???\")"
   ]
  },
  {
   "cell_type": "code",
   "execution_count": 21,
   "id": "5786c770",
   "metadata": {},
   "outputs": [
    {
     "name": "stdout",
     "output_type": "stream",
     "text": [
      "kullanici adinizi giriniz:Kullanici1\n",
      "sifrenizi giriniz:Sifre1\n",
      "Basariyla Giris Yaptiniz\n"
     ]
    }
   ],
   "source": [
    "class Account:\n",
    "  def __init__(self, UserName, Password):\n",
    "    self.UserName = UserName\n",
    "    self.Password = Password\n",
    "    a1 = Account(\"Kullanici1\", \"Sifre1\")\n",
    "    a2 = Account(\"Kullanici2\", \"Sifre2\")\n",
    "    a3 = Account(\"Kullanici3\", \"Sifre3\")\n",
    "    \n",
    "n = input(\"kullanici adinizi giriniz:\")\n",
    "p = input(\"sifrenizi giriniz:\")\n",
    "if n == 'Kullanici1':\n",
    "    if p == 'Sifre1':\n",
    "        print(\"Basariyla Giris Yaptiniz\")\n",
    "    else:\n",
    "        print(\"Yanlis bir sifre Girdiniz\")\n",
    "elif n == 'Kullanici2':\n",
    "    if p == 'Sifre2':\n",
    "        print(\"Basariyla Giris Yaptiniz\")\n",
    "    else:\n",
    "        print(\"Yanlis bir sifre Girdiniz\")\n",
    "elif n == 'Kullanici3':\n",
    "    if p == 'Sifre3':\n",
    "        print(\"Basariyla Giris Yaptiniz\")\n",
    "    else:\n",
    "        print(\"Yanlis bir sifre Girdiniz\")\n",
    "else:\n",
    "     print(\"kullanici adi veya sifrenizi yanlis girdiniz\")"
   ]
  },
  {
   "cell_type": "code",
   "execution_count": 25,
   "id": "84d91bc2",
   "metadata": {},
   "outputs": [
    {
     "name": "stdout",
     "output_type": "stream",
     "text": [
      "Vize notunuzu giriniz: 19\n",
      "Final notunuzu giriniz: 33\n",
      "Kaldınız\n",
      "\n",
      "Notunuz :  27.400000000000002\n"
     ]
    }
   ],
   "source": [
    "v = float(input(\"Vize notunuzu giriniz: \"))\n",
    "f = float(input(\"Final notunuzu giriniz: \"))\n",
    "\n",
    "yn = 0.4 * v + 0.6 * f \n",
    "\n",
    "if yn > 50:\n",
    "    print(\"Geçtiniz\")\n",
    "else:\n",
    "    print(\"Kaldınız\")\n",
    "    \n",
    "print(\"\\nNotunuz : \", yn)"
   ]
  },
  {
   "cell_type": "code",
   "execution_count": 31,
   "id": "66b71010",
   "metadata": {},
   "outputs": [
    {
     "name": "stdout",
     "output_type": "stream",
     "text": [
      "A giriniz: 1\n",
      "B giriniz: -6\n",
      "C giriniz: 9\n",
      "\n",
      "Yalnızca bir adet gerçek kök bulunmaktadır\n",
      "Kökümüz 3.0\n"
     ]
    }
   ],
   "source": [
    "#Bir quadratik denklemin köklerini bulmanın yöntemi\n",
    "\n",
    "a = float(input(\"A giriniz: \"))\n",
    "if a == 0: #Bu bir quadratik denklem olmadığını gösterir\n",
    "    print(\"\\n Bu bir quadratik denklem değildir!!\")\n",
    "    \n",
    "else:\n",
    "    b = float(input(\"B giriniz: \"))\n",
    "    c = float(input(\"C giriniz: \"))\n",
    "    \n",
    "    #delta b**2 - 4*a*c\n",
    "    d = b**2 - 4*a*c\n",
    "    \n",
    "    #Kök hesaplama\n",
    "    if d < 0: #Gerçek kök yok\n",
    "        print(\"\\nGerçek kök bulunmamaktadır!\")\n",
    "    elif d == 0: #Yalnızca bir kök var\n",
    "        print(\"\\nYalnızca bir adet gerçek kök bulunmaktadır\")\n",
    "        print(\"Kökümüz\", -b/(2*a))\n",
    "    else:\n",
    "        print(\"\\nGerçek iki adet kök var\")\n",
    "        r1 = (-b + d**0.5) / (2*a)\n",
    "        r2 = (-b - d**0.5) / (2*a)\n",
    "        print(\"Kökler: \", r1, \"ve\", r2)"
   ]
  },
  {
   "cell_type": "code",
   "execution_count": 46,
   "id": "0cb0cc95",
   "metadata": {},
   "outputs": [
    {
     "name": "stdout",
     "output_type": "stream",
     "text": [
      "Goodbye\n"
     ]
    },
    {
     "data": {
      "text/plain": [
       "'\\nif n > 10:\\n    print(\"Merhaba\")\\nelif n >= 5:\\n    print(\"Goodbye\")\\nelse:\\n    print(\"Good day\")\\n\\n'"
      ]
     },
     "execution_count": 46,
     "metadata": {},
     "output_type": "execute_result"
    }
   ],
   "source": [
    "n = 8\n",
    "\n",
    "\"Merhaba\" if n > 10 else \"Goodbye\" if n >= 5 else \"Good day\" #nested ternary operator\n",
    "\n",
    "'''\n",
    "if n > 10:\n",
    "    print(\"Merhaba\")\n",
    "elif n >= 5:\n",
    "    print(\"Goodbye\")\n",
    "else:\n",
    "    print(\"Good day\")\n",
    "\n",
    "'''"
   ]
  },
  {
   "cell_type": "code",
   "execution_count": 52,
   "id": "12098f0a",
   "metadata": {},
   "outputs": [
    {
     "name": "stdout",
     "output_type": "stream",
     "text": [
      "5\n"
     ]
    }
   ],
   "source": [
    "#pass statement\n",
    "a = 5\n",
    "\n",
    "def empty_function():\n",
    "    pass\n",
    "\n",
    "print(a)"
   ]
  },
  {
   "cell_type": "code",
   "execution_count": 53,
   "id": "46b94b8d",
   "metadata": {},
   "outputs": [
    {
     "name": "stdout",
     "output_type": "stream",
     "text": [
      "1\n",
      "2\n",
      "3\n",
      "4\n",
      "python\n",
      "python\n",
      "python\n",
      "python\n",
      "python\n",
      "python\n",
      "1\n",
      "2\n",
      "4\n",
      "5\n",
      "6\n"
     ]
    }
   ],
   "source": [
    "a = [1,2,3,4]\n",
    "\n",
    "for i in a:\n",
    "    print(i)\n",
    "b = \"python\"\n",
    "for harf in b:\n",
    "    print(b)\n",
    "   \n",
    "i = 0\n",
    "while i < 10:\n",
    "    i +=1\n",
    "    if i == 3:\n",
    "        continue\n",
    "    elif i == 7:\n",
    "        break\n",
    "    else: \n",
    "        print(i)"
   ]
  },
  {
   "cell_type": "code",
   "execution_count": 54,
   "id": "cc4cf4b7",
   "metadata": {},
   "outputs": [],
   "source": [
    "for x in range(10):\n",
    "    pass"
   ]
  },
  {
   "cell_type": "code",
   "execution_count": null,
   "id": "64606d7b",
   "metadata": {},
   "outputs": [],
   "source": [
    "while x == y:\n",
    "    pass"
   ]
  },
  {
   "cell_type": "code",
   "execution_count": 1,
   "id": "f4d33de1",
   "metadata": {},
   "outputs": [
    {
     "name": "stdout",
     "output_type": "stream",
     "text": [
      "Satış miktarını giriniz: 10000\n",
      "Komisyon oranını giriniz: 5\n",
      "Komisyon miktarı 50000.0\n",
      "Başka bir hesaplama yapmak istiyor musunuz? commission (Enter y for yes): y\n",
      "Satış miktarını giriniz: 20000\n",
      "Komisyon oranını giriniz: 10\n",
      "Komisyon miktarı 200000.0\n",
      "Başka bir hesaplama yapmak istiyor musunuz? commission (Enter y for yes): y\n",
      "Satış miktarını giriniz: 30000\n",
      "Komisyon oranını giriniz: 15\n",
      "Komisyon miktarı 450000.0\n",
      "Başka bir hesaplama yapmak istiyor musunuz? commission (Enter y for yes): n\n"
     ]
    }
   ],
   "source": [
    "keep_going = 'y'\n",
    "\n",
    "while keep_going == 'y':\n",
    "    sales = float(input('Satış miktarını giriniz: '))\n",
    "    comm_rate = float(input('Komisyon oranını giriniz: '))\n",
    "    commission = sales * comm_rate\n",
    "    print(\"Komisyon miktarı\", commission)\n",
    "    \n",
    "    keep_going = input('Başka bir hesaplama yapmak istiyor musunuz?' + \\\n",
    "                       ' commission (Enter y for yes): ')"
   ]
  },
  {
   "cell_type": "code",
   "execution_count": 1,
   "id": "b12b8670",
   "metadata": {},
   "outputs": [
    {
     "name": "stdout",
     "output_type": "stream",
     "text": [
      "Bu program aşağıdaki sayıların toplamını hesaplamaktadır\n",
      "5 adet sayı girilecektir\n",
      "Bir sayı giriniz: 34\n",
      "Bir sayı giriniz: 45\n",
      "Bir sayı giriniz: 56\n",
      "Bir sayı giriniz: 67\n",
      "Bir sayı giriniz: 78\n",
      "Toplam:  280.0\n"
     ]
    }
   ],
   "source": [
    "max = 5\n",
    "\n",
    "total = 0.0\n",
    "\n",
    "print('Bu program aşağıdaki sayıların toplamını hesaplamaktadır')\n",
    "print(max, 'adet sayı girilecektir')\n",
    "\n",
    "for counter in range(max):\n",
    "    number = int(input('Bir sayı giriniz: '))\n",
    "    total = total + number\n",
    "    \n",
    "print('Toplam: ', total)"
   ]
  },
  {
   "cell_type": "code",
   "execution_count": null,
   "id": "9de62dd8",
   "metadata": {},
   "outputs": [],
   "source": []
  }
 ],
 "metadata": {
  "kernelspec": {
   "display_name": "Python 3",
   "language": "python",
   "name": "python3"
  },
  "language_info": {
   "codemirror_mode": {
    "name": "ipython",
    "version": 3
   },
   "file_extension": ".py",
   "mimetype": "text/x-python",
   "name": "python",
   "nbconvert_exporter": "python",
   "pygments_lexer": "ipython3",
   "version": "3.8.8"
  }
 },
 "nbformat": 4,
 "nbformat_minor": 5
}
