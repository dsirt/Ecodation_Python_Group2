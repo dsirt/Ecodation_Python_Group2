{
 "cells": [
  {
   "cell_type": "code",
   "execution_count": 1,
   "id": "0d37ef8e",
   "metadata": {},
   "outputs": [
    {
     "name": "stdout",
     "output_type": "stream",
     "text": [
      "Hello World\n"
     ]
    }
   ],
   "source": [
    "print('Hello World')"
   ]
  },
  {
   "cell_type": "code",
   "execution_count": 2,
   "id": "9da549a7",
   "metadata": {},
   "outputs": [
    {
     "name": "stdout",
     "output_type": "stream",
     "text": [
      "Kate Austin\n",
      "123 Full Circle Drive\n",
      "Istanbul, Turkiye\n"
     ]
    }
   ],
   "source": [
    "print('Kate Austin')\n",
    "print('123 Full Circle Drive')\n",
    "print('Istanbul, Turkiye')"
   ]
  },
  {
   "cell_type": "code",
   "execution_count": 21,
   "id": "3f070311",
   "metadata": {},
   "outputs": [
    {
     "name": "stdout",
     "output_type": "stream",
     "text": [
      "1\n",
      "bar\n",
      "3.14\n"
     ]
    }
   ],
   "source": [
    "foo = \"1\"\n",
    "bar = \"bar\"\n",
    "baz = \"3.14\" \n",
    "print(foo)\n",
    "print(bar)\n",
    "print(baz)"
   ]
  },
  {
   "cell_type": "code",
   "execution_count": 22,
   "id": "19965efc",
   "metadata": {},
   "outputs": [
    {
     "name": "stdout",
     "output_type": "stream",
     "text": [
      "Ödeviniz yarın \"Hamlet\" okuyup gelmek\n"
     ]
    }
   ],
   "source": [
    "print('Ödeviniz yarın \"Hamlet\" okuyup gelmek')"
   ]
  },
  {
   "cell_type": "code",
   "execution_count": 23,
   "id": "c7fd04d6",
   "metadata": {},
   "outputs": [
    {
     "name": "stdout",
     "output_type": "stream",
     "text": [
      "Bu akşam \"Hamlet\" okuyacağım\n"
     ]
    }
   ],
   "source": [
    "print(\"\"\"Bu akşam \"Hamlet\" okuyacağım\"\"\")"
   ]
  },
  {
   "cell_type": "code",
   "execution_count": 24,
   "id": "ddefc123",
   "metadata": {},
   "outputs": [
    {
     "name": "stdout",
     "output_type": "stream",
     "text": [
      "Bu akşam \"Hamlet\" ve 'Suç ve Ceza' okuyacağım\n"
     ]
    }
   ],
   "source": [
    "print(\"\"\"Bu akşam \"Hamlet\" ve 'Suç ve Ceza' okuyacağım\"\"\")"
   ]
  },
  {
   "cell_type": "code",
   "execution_count": 25,
   "id": "82a4c94d",
   "metadata": {},
   "outputs": [
    {
     "name": "stdout",
     "output_type": "stream",
     "text": [
      "1 bar 3.14\n"
     ]
    }
   ],
   "source": [
    "print(foo, bar, baz)"
   ]
  },
  {
   "cell_type": "code",
   "execution_count": 27,
   "id": "05d1910a",
   "metadata": {},
   "outputs": [
    {
     "name": "stdout",
     "output_type": "stream",
     "text": [
      "1 bar 3.14\n"
     ]
    }
   ],
   "source": [
    "print(foo + \" \" + bar +  \" \" + baz)"
   ]
  },
  {
   "cell_type": "code",
   "execution_count": 14,
   "id": "266fb471",
   "metadata": {},
   "outputs": [
    {
     "name": "stdout",
     "output_type": "stream",
     "text": [
      "9\n"
     ]
    }
   ],
   "source": [
    "print(4 + 5)"
   ]
  },
  {
   "cell_type": "code",
   "execution_count": 17,
   "id": "c7b27b5e",
   "metadata": {},
   "outputs": [
    {
     "name": "stdout",
     "output_type": "stream",
     "text": [
      "4 5\n"
     ]
    }
   ],
   "source": [
    "print(\"4\" + \" \" + \"5\")"
   ]
  },
  {
   "cell_type": "code",
   "execution_count": 18,
   "id": "be5d5a9a",
   "metadata": {},
   "outputs": [
    {
     "name": "stdout",
     "output_type": "stream",
     "text": [
      "[4, 5]\n"
     ]
    }
   ],
   "source": [
    "print([4] + [5])"
   ]
  },
  {
   "cell_type": "code",
   "execution_count": 28,
   "id": "df342e21",
   "metadata": {},
   "outputs": [
    {
     "name": "stdout",
     "output_type": "stream",
     "text": [
      "5ab\n"
     ]
    }
   ],
   "source": [
    "x = \"5\"\n",
    "y = \"ab\"\n",
    "print(str(x)+y)"
   ]
  },
  {
   "cell_type": "code",
   "execution_count": 29,
   "id": "b49404a6",
   "metadata": {},
   "outputs": [
    {
     "name": "stdout",
     "output_type": "stream",
     "text": [
      "Bir\n",
      "İki\n",
      "Üç\n"
     ]
    }
   ],
   "source": [
    "print(\"\"\"Bir\n",
    "İki\n",
    "Üç\"\"\")"
   ]
  },
  {
   "cell_type": "code",
   "execution_count": 30,
   "id": "951b6c5d",
   "metadata": {},
   "outputs": [
    {
     "name": "stdout",
     "output_type": "stream",
     "text": [
      "['False', 'None', 'True', 'and', 'as', 'assert', 'async', 'await', 'break', 'class', 'continue', 'def', 'del', 'elif', 'else', 'except', 'finally', 'for', 'from', 'global', 'if', 'import', 'in', 'is', 'lambda', 'nonlocal', 'not', 'or', 'pass', 'raise', 'return', 'try', 'while', 'with', 'yield']\n"
     ]
    }
   ],
   "source": [
    "import keyword\n",
    "print(keyword.kwlist)"
   ]
  },
  {
   "cell_type": "code",
   "execution_count": 31,
   "id": "d8d2f7a3",
   "metadata": {},
   "outputs": [
    {
     "data": {
      "text/plain": [
       "35"
      ]
     },
     "execution_count": 31,
     "metadata": {},
     "output_type": "execute_result"
    }
   ],
   "source": [
    "len(keyword.kwlist)"
   ]
  },
  {
   "cell_type": "code",
   "execution_count": 32,
   "id": "6bc77411",
   "metadata": {},
   "outputs": [
    {
     "ename": "SyntaxError",
     "evalue": "invalid syntax (<ipython-input-32-ed7b75acd262>, line 3)",
     "output_type": "error",
     "traceback": [
      "\u001b[1;36m  File \u001b[1;32m\"<ipython-input-32-ed7b75acd262>\"\u001b[1;36m, line \u001b[1;32m3\u001b[0m\n\u001b[1;33m    1var = 10\u001b[0m\n\u001b[1;37m     ^\u001b[0m\n\u001b[1;31mSyntaxError\u001b[0m\u001b[1;31m:\u001b[0m invalid syntax\n"
     ]
    }
   ],
   "source": [
    "#Identifiers (Belirteçler)\n",
    "\n",
    "1var = 10"
   ]
  },
  {
   "cell_type": "code",
   "execution_count": 33,
   "id": "c2be7f43",
   "metadata": {},
   "outputs": [
    {
     "ename": "SyntaxError",
     "evalue": "invalid syntax (<ipython-input-33-2d68897b562b>, line 1)",
     "output_type": "error",
     "traceback": [
      "\u001b[1;36m  File \u001b[1;32m\"<ipython-input-33-2d68897b562b>\"\u001b[1;36m, line \u001b[1;32m1\u001b[0m\n\u001b[1;33m    val2@ = 35\u001b[0m\n\u001b[1;37m          ^\u001b[0m\n\u001b[1;31mSyntaxError\u001b[0m\u001b[1;31m:\u001b[0m invalid syntax\n"
     ]
    }
   ],
   "source": [
    "val2@ = 35 "
   ]
  },
  {
   "cell_type": "code",
   "execution_count": 34,
   "id": "c01cb2c3",
   "metadata": {},
   "outputs": [
    {
     "ename": "SyntaxError",
     "evalue": "invalid syntax (<ipython-input-34-ebe66de63218>, line 1)",
     "output_type": "error",
     "traceback": [
      "\u001b[1;36m  File \u001b[1;32m\"<ipython-input-34-ebe66de63218>\"\u001b[1;36m, line \u001b[1;32m1\u001b[0m\n\u001b[1;33m    import = 125\u001b[0m\n\u001b[1;37m           ^\u001b[0m\n\u001b[1;31mSyntaxError\u001b[0m\u001b[1;31m:\u001b[0m invalid syntax\n"
     ]
    }
   ],
   "source": [
    "import = 125"
   ]
  },
  {
   "cell_type": "code",
   "execution_count": 35,
   "id": "294f71bd",
   "metadata": {},
   "outputs": [
    {
     "name": "stdout",
     "output_type": "stream",
     "text": [
      "10\n"
     ]
    }
   ],
   "source": [
    "val2 = 10\n",
    "print(val2)"
   ]
  },
  {
   "cell_type": "code",
   "execution_count": 36,
   "id": "f20aaa1d",
   "metadata": {},
   "outputs": [
    {
     "name": "stdout",
     "output_type": "stream",
     "text": [
      "99\n"
     ]
    }
   ],
   "source": [
    "val_ = 99\n",
    "print(val_)"
   ]
  },
  {
   "cell_type": "code",
   "execution_count": 37,
   "id": "19c4286e",
   "metadata": {},
   "outputs": [],
   "source": [
    "#Comments (Yorumlar)\n",
    "#Tek satırlık yorum\n",
    "val1 = 10"
   ]
  },
  {
   "cell_type": "code",
   "execution_count": 38,
   "id": "334c1bc1",
   "metadata": {},
   "outputs": [],
   "source": [
    "#Çok\n",
    "#Satırlı\n",
    "#Yorum\n",
    "val1 = 10"
   ]
  },
  {
   "cell_type": "code",
   "execution_count": 39,
   "id": "1f4d9c10",
   "metadata": {},
   "outputs": [],
   "source": [
    "\"\"\"\n",
    "Çok\n",
    "Satırlı\n",
    "Yorum\n",
    "\n",
    "\"\"\"\n",
    "\n",
    "val1 = 10"
   ]
  },
  {
   "cell_type": "code",
   "execution_count": 40,
   "id": "19391ccd",
   "metadata": {},
   "outputs": [],
   "source": [
    "'''\n",
    "Çok\n",
    "Satırlı\n",
    "Yorum\n",
    "\n",
    "'''\n",
    "val1 = 10"
   ]
  },
  {
   "cell_type": "code",
   "execution_count": 41,
   "id": "9728485c",
   "metadata": {},
   "outputs": [
    {
     "data": {
      "text/plain": [
       "30"
      ]
     },
     "execution_count": 41,
     "metadata": {},
     "output_type": "execute_result"
    }
   ],
   "source": [
    "#Statements (İfadeler)\n",
    "p1 = 10 + 20 #Tek satırlı ifade\n",
    "p1"
   ]
  },
  {
   "cell_type": "code",
   "execution_count": 42,
   "id": "8e8cf27a",
   "metadata": {},
   "outputs": [
    {
     "data": {
      "text/plain": [
       "['a', 'b', 'c', 'd']"
      ]
     },
     "execution_count": 42,
     "metadata": {},
     "output_type": "execute_result"
    }
   ],
   "source": [
    "p2 = ['a', 'b', 'c', 'd']\n",
    "p2"
   ]
  },
  {
   "cell_type": "code",
   "execution_count": 43,
   "id": "6d58b836",
   "metadata": {},
   "outputs": [
    {
     "data": {
      "text/plain": [
       "290"
      ]
     },
     "execution_count": 43,
     "metadata": {},
     "output_type": "execute_result"
    }
   ],
   "source": [
    "p1 = 20 + 30 \\ #çok satırlı ifade\n",
    "     + 40 + 50 +\\\n",
    "     + 70 + 80\n",
    "p1"
   ]
  },
  {
   "cell_type": "code",
   "execution_count": 44,
   "id": "32f0379c",
   "metadata": {},
   "outputs": [
    {
     "data": {
      "text/plain": [
       "['a', 'b', 'c', 'd']"
      ]
     },
     "execution_count": 44,
     "metadata": {},
     "output_type": "execute_result"
    }
   ],
   "source": [
    "p2 = ['a',\n",
    "     'b',\n",
    "     'c',\n",
    "     'd'\n",
    "     ]\n",
    "p2"
   ]
  },
  {
   "cell_type": "code",
   "execution_count": 47,
   "id": "c975907d",
   "metadata": {},
   "outputs": [
    {
     "name": "stdout",
     "output_type": "stream",
     "text": [
      "P eşittir 10\n"
     ]
    }
   ],
   "source": [
    "#Indentation (Hizalama)\n",
    "p = 10\n",
    "if p == 10:\n",
    "    print('P eşittir 10')"
   ]
  },
  {
   "cell_type": "code",
   "execution_count": 50,
   "id": "c43f8136",
   "metadata": {},
   "outputs": [
    {
     "name": "stdout",
     "output_type": "stream",
     "text": [
      "0\n",
      "1\n",
      "2\n",
      "3\n",
      "4\n"
     ]
    }
   ],
   "source": [
    "for i in range(0, 5):\n",
    "    print(i)"
   ]
  },
  {
   "cell_type": "code",
   "execution_count": 51,
   "id": "efddebf6",
   "metadata": {},
   "outputs": [
    {
     "name": "stdout",
     "output_type": "stream",
     "text": [
      "0\n",
      "1\n",
      "2\n",
      "3\n",
      "4\n"
     ]
    }
   ],
   "source": [
    "for i in range(0, 5): print(i)"
   ]
  },
  {
   "cell_type": "code",
   "execution_count": 54,
   "id": "bff11d9f",
   "metadata": {},
   "outputs": [
    {
     "name": "stdout",
     "output_type": "stream",
     "text": [
      "0\n",
      "1\n",
      "2\n",
      "3\n",
      "4\n",
      "20\n"
     ]
    }
   ],
   "source": [
    "j = 20\n",
    "for i in range (0, 5):\n",
    "    print(i)\n",
    "print(j)"
   ]
  },
  {
   "cell_type": "code",
   "execution_count": 56,
   "id": "f7fd7008",
   "metadata": {},
   "outputs": [
    {
     "name": "stdout",
     "output_type": "stream",
     "text": [
      "apples, bananas, cherries\n"
     ]
    }
   ],
   "source": [
    "print('apples', 'bananas', 'cherries', sep = ', ') #seperator parametresi"
   ]
  },
  {
   "cell_type": "code",
   "execution_count": 78,
   "id": "0e7e44f8",
   "metadata": {},
   "outputs": [
    {
     "name": "stdout",
     "output_type": "stream",
     "text": [
      "apples\t bananas\t cherries\t cranberries\n"
     ]
    }
   ],
   "source": [
    "print('apples', 'bananas', 'cherries', 'cranberries', sep = '\\t ')"
   ]
  },
  {
   "cell_type": "code",
   "execution_count": 64,
   "id": "eb79c99e",
   "metadata": {},
   "outputs": [
    {
     "name": "stdout",
     "output_type": "stream",
     "text": [
      "apples\n",
      "bananas\n",
      "cherries\n"
     ]
    }
   ],
   "source": [
    "print('apples', 'bananas', 'cherries', sep = '\\n')"
   ]
  },
  {
   "cell_type": "code",
   "execution_count": 79,
   "id": "b11481ff",
   "metadata": {},
   "outputs": [
    {
     "name": "stdout",
     "output_type": "stream",
     "text": [
      "<a class='jidn'/>\n"
     ]
    }
   ],
   "source": [
    "print(\"<a\", end = ''); print(\" class='jidn'\" if 1 else \"\", end = ''); print(\"/>\")"
   ]
  },
  {
   "cell_type": "code",
   "execution_count": 80,
   "id": "7af69ac2",
   "metadata": {},
   "outputs": [
    {
     "name": "stdout",
     "output_type": "stream",
     "text": [
      "paragraph1\n",
      "\n",
      "paragraph2\n"
     ]
    }
   ],
   "source": [
    "print(\"paragraph1\", end=\"\\n\\n\"); print(\"paragraph2\")"
   ]
  },
  {
   "cell_type": "code",
   "execution_count": 81,
   "id": "6cbf0ef8",
   "metadata": {},
   "outputs": [
    {
     "name": "stdout",
     "output_type": "stream",
     "text": [
      "10\n"
     ]
    }
   ],
   "source": [
    "#Data Types (Veri Türleri)\n",
    "val1 = 10 #Integer Veri Türü\n",
    "print(val1)"
   ]
  },
  {
   "cell_type": "code",
   "execution_count": 83,
   "id": "0841cdb0",
   "metadata": {},
   "outputs": [
    {
     "name": "stdout",
     "output_type": "stream",
     "text": [
      "<class 'int'>\n",
      "28\n",
      "10 bir tam sayı mı? -  True\n"
     ]
    }
   ],
   "source": [
    "import sys\n",
    "print(type(val1))\n",
    "print(sys.getsizeof(val1))\n",
    "print(val1, \"bir tam sayı mı? - \", isinstance(val1, int))"
   ]
  },
  {
   "cell_type": "code",
   "execution_count": 84,
   "id": "8956152a",
   "metadata": {},
   "outputs": [
    {
     "name": "stdout",
     "output_type": "stream",
     "text": [
      "92.78\n",
      "<class 'float'>\n",
      "24\n",
      "92.78 bir virgüllü sayı mı? -  True\n"
     ]
    }
   ],
   "source": [
    "val2 = 92.78 #Float Veri Türü\n",
    "print(val2)\n",
    "print(type(val2))\n",
    "print(sys.getsizeof(val2))\n",
    "print(val2, \"bir virgüllü sayı mı? - \", isinstance(val2, float))"
   ]
  },
  {
   "cell_type": "code",
   "execution_count": 85,
   "id": "b4497e0f",
   "metadata": {},
   "outputs": [
    {
     "name": "stdout",
     "output_type": "stream",
     "text": [
      "(25+10j)\n",
      "<class 'complex'>\n",
      "32\n",
      "(25+10j) karmaşık sayı mı? -  True\n"
     ]
    }
   ],
   "source": [
    "val3 = 25 + 10j #complex veri türü\n",
    "print(val3)\n",
    "print(type(val3))\n",
    "print(sys.getsizeof(val3))\n",
    "print(val3, \"karmaşık sayı mı? - \", isinstance(val3, complex))"
   ]
  },
  {
   "cell_type": "code",
   "execution_count": 86,
   "id": "f2b0e125",
   "metadata": {},
   "outputs": [
    {
     "data": {
      "text/plain": [
       "24"
      ]
     },
     "execution_count": 86,
     "metadata": {},
     "output_type": "execute_result"
    }
   ],
   "source": [
    "sys.getsizeof(int())"
   ]
  },
  {
   "cell_type": "code",
   "execution_count": 87,
   "id": "3e0b5ba7",
   "metadata": {},
   "outputs": [
    {
     "data": {
      "text/plain": [
       "24"
      ]
     },
     "execution_count": 87,
     "metadata": {},
     "output_type": "execute_result"
    }
   ],
   "source": [
    "sys.getsizeof(float())"
   ]
  },
  {
   "cell_type": "code",
   "execution_count": 88,
   "id": "b97ebcca",
   "metadata": {},
   "outputs": [
    {
     "data": {
      "text/plain": [
       "32"
      ]
     },
     "execution_count": 88,
     "metadata": {},
     "output_type": "execute_result"
    }
   ],
   "source": [
    "sys.getsizeof(complex())"
   ]
  },
  {
   "cell_type": "code",
   "execution_count": 89,
   "id": "e68ab9a3",
   "metadata": {},
   "outputs": [
    {
     "name": "stdout",
     "output_type": "stream",
     "text": [
      "<class 'bool'>\n",
      "<class 'bool'>\n"
     ]
    }
   ],
   "source": [
    "#Boolean Data Type (T/F veri türü)\n",
    "\n",
    "bool1 = True #1\n",
    "bool2 = False #0\n",
    "\n",
    "print(type(bool1))\n",
    "print(type(bool2))"
   ]
  },
  {
   "cell_type": "code",
   "execution_count": 90,
   "id": "3085f735",
   "metadata": {},
   "outputs": [
    {
     "data": {
      "text/plain": [
       "True"
      ]
     },
     "execution_count": 90,
     "metadata": {},
     "output_type": "execute_result"
    }
   ],
   "source": [
    "isinstance(bool1, bool)"
   ]
  },
  {
   "cell_type": "code",
   "execution_count": 92,
   "id": "4fa5fa60",
   "metadata": {},
   "outputs": [
    {
     "data": {
      "text/plain": [
       "True"
      ]
     },
     "execution_count": 92,
     "metadata": {},
     "output_type": "execute_result"
    }
   ],
   "source": [
    "isinstance(bool1, int)"
   ]
  },
  {
   "cell_type": "code",
   "execution_count": 93,
   "id": "fef13dbb",
   "metadata": {},
   "outputs": [
    {
     "data": {
      "text/plain": [
       "False"
      ]
     },
     "execution_count": 93,
     "metadata": {},
     "output_type": "execute_result"
    }
   ],
   "source": [
    "isinstance(bool1, float)"
   ]
  },
  {
   "cell_type": "code",
   "execution_count": 94,
   "id": "8d435343",
   "metadata": {},
   "outputs": [
    {
     "data": {
      "text/plain": [
       "False"
      ]
     },
     "execution_count": 94,
     "metadata": {},
     "output_type": "execute_result"
    }
   ],
   "source": [
    "bool(0)"
   ]
  },
  {
   "cell_type": "code",
   "execution_count": 95,
   "id": "a7b6aa45",
   "metadata": {},
   "outputs": [
    {
     "data": {
      "text/plain": [
       "True"
      ]
     },
     "execution_count": 95,
     "metadata": {},
     "output_type": "execute_result"
    }
   ],
   "source": [
    "bool(1)"
   ]
  },
  {
   "cell_type": "code",
   "execution_count": 96,
   "id": "81641bbb",
   "metadata": {},
   "outputs": [
    {
     "data": {
      "text/plain": [
       "False"
      ]
     },
     "execution_count": 96,
     "metadata": {},
     "output_type": "execute_result"
    }
   ],
   "source": [
    "bool(None)"
   ]
  },
  {
   "cell_type": "code",
   "execution_count": 97,
   "id": "f5ae86d8",
   "metadata": {},
   "outputs": [
    {
     "data": {
      "text/plain": [
       "False"
      ]
     },
     "execution_count": 97,
     "metadata": {},
     "output_type": "execute_result"
    }
   ],
   "source": [
    "bool(False)"
   ]
  },
  {
   "cell_type": "code",
   "execution_count": 98,
   "id": "a1910e39",
   "metadata": {},
   "outputs": [
    {
     "data": {
      "text/plain": [
       "True"
      ]
     },
     "execution_count": 98,
     "metadata": {},
     "output_type": "execute_result"
    }
   ],
   "source": [
    "bool(True)"
   ]
  },
  {
   "cell_type": "code",
   "execution_count": 111,
   "id": "0e4db445",
   "metadata": {},
   "outputs": [
    {
     "name": "stdout",
     "output_type": "stream",
     "text": [
      "5 ile 3 toplanirsa şu elde edilir :- 8\n",
      "\n"
     ]
    }
   ],
   "source": [
    "a = 5\n",
    "b = 3\n",
    "\n",
    "x = 'Dogu'\n",
    "y = 'Sirt'\n",
    "\n",
    "#Toplama\n",
    "c = a + b\n",
    "print(f\"{a} ile {b} toplanirsa şu elde edilir :- {c}\\n\")"
   ]
  },
  {
   "cell_type": "code",
   "execution_count": 112,
   "id": "8940e3ee",
   "metadata": {},
   "outputs": [
    {
     "name": "stdout",
     "output_type": "stream",
     "text": [
      "'x' ile 'y' birleştirilirse DoguSirt oluşur\n"
     ]
    }
   ],
   "source": [
    "z = x + y\n",
    "print(f'\\'x\\' ile \\'y\\' birleştirilirse {z} oluşur')"
   ]
  },
  {
   "cell_type": "code",
   "execution_count": 113,
   "id": "f158cd5e",
   "metadata": {},
   "outputs": [
    {
     "name": "stdout",
     "output_type": "stream",
     "text": [
      "5 ile 3 çıkarılırsa şu elde edilir :- 2\n",
      "\n"
     ]
    }
   ],
   "source": [
    "c = a - b\n",
    "print(f\"{a} ile {b} çıkarılırsa şu elde edilir :- {c}\\n\")"
   ]
  },
  {
   "cell_type": "code",
   "execution_count": 114,
   "id": "fa9ba001",
   "metadata": {},
   "outputs": [
    {
     "name": "stdout",
     "output_type": "stream",
     "text": [
      "5 ile 3 çarpılırsa şu elde edilir :- 15\n",
      "\n"
     ]
    }
   ],
   "source": [
    "c = a * b\n",
    "print(f\"{a} ile {b} çarpılırsa şu elde edilir :- {c}\\n\")"
   ]
  },
  {
   "cell_type": "code",
   "execution_count": 115,
   "id": "edf36b47",
   "metadata": {},
   "outputs": [
    {
     "name": "stdout",
     "output_type": "stream",
     "text": [
      "5 ile 3 bölünürse şu elde edilir :- 1.6666666666666667\n",
      "\n"
     ]
    }
   ],
   "source": [
    "c = a / b #Kalansız bölme\n",
    "print(f\"{a} ile {b} bölünürse şu elde edilir :- {c}\\n\")"
   ]
  },
  {
   "cell_type": "code",
   "execution_count": 116,
   "id": "43d93f21",
   "metadata": {},
   "outputs": [
    {
     "name": "stdout",
     "output_type": "stream",
     "text": [
      "5 ile 3 bölünürse şu elde edilir :- 1\n",
      "\n"
     ]
    }
   ],
   "source": [
    "c = a // b #Kalanlı bölme\n",
    "print(f\"{a} ile {b} bölünürse şu elde edilir :- {c}\\n\")"
   ]
  },
  {
   "cell_type": "code",
   "execution_count": 117,
   "id": "d3397d40",
   "metadata": {},
   "outputs": [
    {
     "name": "stdout",
     "output_type": "stream",
     "text": [
      "5 ile 3 modlanırsa şu elde edilir :- 2\n",
      "\n"
     ]
    }
   ],
   "source": [
    "c = a % b #Mod\n",
    "print(f\"{a} ile {b} modlanırsa şu elde edilir :- {c}\\n\")"
   ]
  },
  {
   "cell_type": "code",
   "execution_count": 118,
   "id": "e4c86b34",
   "metadata": {},
   "outputs": [
    {
     "name": "stdout",
     "output_type": "stream",
     "text": [
      "5 ile 3 üslenirse şu elde edilir :- 125\n",
      "\n"
     ]
    }
   ],
   "source": [
    "c = a ** b #Üs alma\n",
    "print(f\"{a} ile {b} üslenirse şu elde edilir :- {c}\\n\")"
   ]
  },
  {
   "cell_type": "code",
   "execution_count": 119,
   "id": "ac8edcfd",
   "metadata": {},
   "outputs": [],
   "source": [
    "p = 30"
   ]
  },
  {
   "cell_type": "code",
   "execution_count": 120,
   "id": "30db9143",
   "metadata": {},
   "outputs": [
    {
     "data": {
      "text/plain": [
       "140726773885648"
      ]
     },
     "execution_count": 120,
     "metadata": {},
     "output_type": "execute_result"
    }
   ],
   "source": [
    "id(p)"
   ]
  },
  {
   "cell_type": "code",
   "execution_count": 121,
   "id": "955b7ead",
   "metadata": {},
   "outputs": [
    {
     "data": {
      "text/plain": [
       "'0x7ffd815e2ad0'"
      ]
     },
     "execution_count": 121,
     "metadata": {},
     "output_type": "execute_result"
    }
   ],
   "source": [
    "hex(id(p))"
   ]
  },
  {
   "cell_type": "code",
   "execution_count": 122,
   "id": "cec43e10",
   "metadata": {},
   "outputs": [
    {
     "data": {
      "text/plain": [
       "(20, int, '0x7ffd815e2990')"
      ]
     },
     "execution_count": 122,
     "metadata": {},
     "output_type": "execute_result"
    }
   ],
   "source": [
    "p = 20\n",
    "q = 20\n",
    "r = q\n",
    "p, type(p), hex(id(p))"
   ]
  },
  {
   "cell_type": "code",
   "execution_count": 123,
   "id": "c27736ad",
   "metadata": {},
   "outputs": [
    {
     "data": {
      "text/plain": [
       "(20, int, '0x7ffd815e2990')"
      ]
     },
     "execution_count": 123,
     "metadata": {},
     "output_type": "execute_result"
    }
   ],
   "source": [
    "q, type(q), hex(id(q))"
   ]
  },
  {
   "cell_type": "code",
   "execution_count": 124,
   "id": "0c5ffedf",
   "metadata": {},
   "outputs": [
    {
     "data": {
      "text/plain": [
       "(20, int, '0x7ffd815e2990')"
      ]
     },
     "execution_count": 124,
     "metadata": {},
     "output_type": "execute_result"
    }
   ],
   "source": [
    "r, type(q), hex(id(r))"
   ]
  },
  {
   "cell_type": "code",
   "execution_count": 125,
   "id": "18d6584e",
   "metadata": {},
   "outputs": [
    {
     "name": "stdout",
     "output_type": "stream",
     "text": [
      "10\n",
      "2.57\n",
      "Python\n"
     ]
    }
   ],
   "source": [
    "intvar, floatvar, strvar = 10, 2.57, \"Python\"\n",
    "print(intvar)\n",
    "print(floatvar)\n",
    "print(strvar)"
   ]
  },
  {
   "cell_type": "code",
   "execution_count": 126,
   "id": "72820a6c",
   "metadata": {},
   "outputs": [
    {
     "name": "stdout",
     "output_type": "stream",
     "text": [
      "44 44 44 44\n"
     ]
    }
   ],
   "source": [
    "p1 = p2 = p3 = p4 = 44\n",
    "print(p1, p2, p3, p4)"
   ]
  },
  {
   "cell_type": "code",
   "execution_count": 130,
   "id": "9a67c7b3",
   "metadata": {},
   "outputs": [],
   "source": [
    "#docstring -> \n",
    "def square(num):\n",
    "    '''Kare alma fonksiyonu : Bu fonksiyon bir sayının karesini döndürür'''\n",
    "    return num**2"
   ]
  },
  {
   "cell_type": "code",
   "execution_count": 131,
   "id": "47bb3dda",
   "metadata": {},
   "outputs": [
    {
     "data": {
      "text/plain": [
       "4"
      ]
     },
     "execution_count": 131,
     "metadata": {},
     "output_type": "execute_result"
    }
   ],
   "source": [
    "square(2)"
   ]
  },
  {
   "cell_type": "code",
   "execution_count": 132,
   "id": "50dbef26",
   "metadata": {},
   "outputs": [
    {
     "data": {
      "text/plain": [
       "'Kare alma fonksiyonu : Bu fonksiyon bir sayının karesini döndürür'"
      ]
     },
     "execution_count": 132,
     "metadata": {},
     "output_type": "execute_result"
    }
   ],
   "source": [
    "square.__doc__"
   ]
  },
  {
   "cell_type": "code",
   "execution_count": 133,
   "id": "50356cc0",
   "metadata": {},
   "outputs": [],
   "source": [
    "def evenodd(num):\n",
    "    '''tek-çift bulma fonksiyonu : bu fonksiyon bir sayının tek veya çift olup olmadığını kontrol eder'''\n",
    "    if num % 2 == 0:\n",
    "        print(\"Çift\")\n",
    "    else:\n",
    "        print(\"Tek\")"
   ]
  },
  {
   "cell_type": "code",
   "execution_count": 134,
   "id": "0cd35f74",
   "metadata": {},
   "outputs": [
    {
     "name": "stdout",
     "output_type": "stream",
     "text": [
      "Tek\n"
     ]
    }
   ],
   "source": [
    "evenodd(3)"
   ]
  },
  {
   "cell_type": "code",
   "execution_count": 135,
   "id": "0676c26d",
   "metadata": {},
   "outputs": [
    {
     "name": "stdout",
     "output_type": "stream",
     "text": [
      "Çift\n"
     ]
    }
   ],
   "source": [
    "evenodd(2)"
   ]
  },
  {
   "cell_type": "code",
   "execution_count": 136,
   "id": "db1e13ca",
   "metadata": {},
   "outputs": [
    {
     "data": {
      "text/plain": [
       "'tek-çift bulma fonksiyonu : bu fonksiyon bir sayının tek veya çift olup olmadığını kontrol eder'"
      ]
     },
     "execution_count": 136,
     "metadata": {},
     "output_type": "execute_result"
    }
   ],
   "source": [
    "evenodd.__doc__"
   ]
  },
  {
   "cell_type": "code",
   "execution_count": 137,
   "id": "a522160f",
   "metadata": {},
   "outputs": [
    {
     "ename": "SyntaxError",
     "evalue": "invalid syntax (<ipython-input-137-ecd02cb6fc5e>, line 1)",
     "output_type": "error",
     "traceback": [
      "\u001b[1;36m  File \u001b[1;32m\"<ipython-input-137-ecd02cb6fc5e>\"\u001b[1;36m, line \u001b[1;32m1\u001b[0m\n\u001b[1;33m    mystr = \"Favori dizim \"Game of Thrones\"tur\"\u001b[0m\n\u001b[1;37m                           ^\u001b[0m\n\u001b[1;31mSyntaxError\u001b[0m\u001b[1;31m:\u001b[0m invalid syntax\n"
     ]
    }
   ],
   "source": [
    "mystr = \"Favori dizim \"Game of Thrones\"tur\"\n",
    "mystr"
   ]
  },
  {
   "cell_type": "code",
   "execution_count": 138,
   "id": "a0c157fb",
   "metadata": {},
   "outputs": [
    {
     "name": "stdout",
     "output_type": "stream",
     "text": [
      "Favori dizim \"Game of Thrones\"tur\n"
     ]
    }
   ],
   "source": [
    "mystr = \"Favori dizim \\\"Game of Thrones\\\"tur\"\n",
    "print(mystr)"
   ]
  },
  {
   "cell_type": "code",
   "execution_count": 2,
   "id": "105c2e76",
   "metadata": {},
   "outputs": [
    {
     "name": "stdout",
     "output_type": "stream",
     "text": [
      "Bir sayi giriniz: 75\n",
      "İkinci sayiyi giriniz: 80\n",
      "155.0\n"
     ]
    }
   ],
   "source": [
    "#input fonksiyonu\n",
    "\n",
    "sayi1 = float(input('Bir sayi giriniz: '))\n",
    "\n",
    "sayi2 = float(input('İkinci sayiyi giriniz: '))\n",
    "\n",
    "toplam = sayi1 + sayi2\n",
    "\n",
    "print(toplam)"
   ]
  },
  {
   "cell_type": "code",
   "execution_count": null,
   "id": "b9cc3ddb",
   "metadata": {},
   "outputs": [],
   "source": []
  }
 ],
 "metadata": {
  "kernelspec": {
   "display_name": "Python 3",
   "language": "python",
   "name": "python3"
  },
  "language_info": {
   "codemirror_mode": {
    "name": "ipython",
    "version": 3
   },
   "file_extension": ".py",
   "mimetype": "text/x-python",
   "name": "python",
   "nbconvert_exporter": "python",
   "pygments_lexer": "ipython3",
   "version": "3.8.8"
  }
 },
 "nbformat": 4,
 "nbformat_minor": 5
}
