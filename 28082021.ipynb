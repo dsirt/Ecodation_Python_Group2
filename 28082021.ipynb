{
 "cells": [
  {
   "cell_type": "code",
   "execution_count": 1,
   "id": "09536f2e",
   "metadata": {},
   "outputs": [
    {
     "name": "stdout",
     "output_type": "stream",
     "text": [
      "Hello Python Lovers\n"
     ]
    }
   ],
   "source": [
    "def myfunc():\n",
    "    print(\"Hello Python Lovers\")\n",
    "    \n",
    "myfunc()"
   ]
  },
  {
   "cell_type": "code",
   "execution_count": 2,
   "id": "96455fac",
   "metadata": {},
   "outputs": [
    {
     "name": "stdout",
     "output_type": "stream",
     "text": [
      "Name :- Dogu\n",
      "User ID is :- dogu123\n",
      "Country :- Turkiye\n"
     ]
    }
   ],
   "source": [
    "def details(name, userid, country):\n",
    "    print('Name :-', name)\n",
    "    print('User ID is :-', userid)\n",
    "    print('Country :-', country)\n",
    "    \n",
    "details('Dogu', 'dogu123', 'Turkiye')"
   ]
  },
  {
   "cell_type": "code",
   "execution_count": 4,
   "id": "ca767d85",
   "metadata": {},
   "outputs": [
    {
     "data": {
      "text/plain": [
       "484"
      ]
     },
     "execution_count": 4,
     "metadata": {},
     "output_type": "execute_result"
    }
   ],
   "source": [
    "def square(n):\n",
    "    n = n*n\n",
    "    return n\n",
    "\n",
    "square(22)"
   ]
  },
  {
   "cell_type": "code",
   "execution_count": 6,
   "id": "85265783",
   "metadata": {},
   "outputs": [
    {
     "name": "stdout",
     "output_type": "stream",
     "text": [
      "7  is odd number\n",
      "4  is even number\n",
      "even_odd fonksiyonu : Bu fonksiyon bir sayının tek veya çift olup olmadığını test eder\n"
     ]
    }
   ],
   "source": [
    "def even_odd(num):\n",
    "    \"\"\"even_odd fonksiyonu : Bu fonksiyon bir sayının tek veya çift olup olmadığını test eder\"\"\" #docstring\n",
    "    if num % 2 == 0:\n",
    "        print(num, ' is even number')\n",
    "    else:\n",
    "        print(num, ' is odd number')\n",
    "        \n",
    "even_odd(7)\n",
    "even_odd(4)\n",
    "print(even_odd.__doc__)"
   ]
  },
  {
   "cell_type": "code",
   "execution_count": 15,
   "id": "d4a5a564",
   "metadata": {},
   "outputs": [
    {
     "name": "stdout",
     "output_type": "stream",
     "text": [
      "Dogu  Sirt\n"
     ]
    }
   ],
   "source": [
    "def fullname(firstname, middlename, lastname):\n",
    "    fullname = \"{} {} {}\".format(firstname, middlename, lastname)\n",
    "    print(fullname)\n",
    "    \n",
    "fullname('Dogu', '' , 'Sirt')"
   ]
  },
  {
   "cell_type": "code",
   "execution_count": 16,
   "id": "7258008d",
   "metadata": {},
   "outputs": [
    {
     "name": "stdout",
     "output_type": "stream",
     "text": [
      "Dogu Bati Sirt\n"
     ]
    }
   ],
   "source": [
    "def fullname(firstname, middlename, lastname):\n",
    "    fullname = \"{} {} {}\".format(firstname, middlename, lastname)\n",
    "    print(fullname)\n",
    "    \n",
    "fullname(lastname = 'Sirt', middlename = 'Bati', firstname = 'Dogu')"
   ]
  },
  {
   "cell_type": "code",
   "execution_count": 17,
   "id": "be977ca6",
   "metadata": {},
   "outputs": [
    {
     "ename": "TypeError",
     "evalue": "fullname() missing 2 required positional arguments: 'middlename' and 'lastname'",
     "output_type": "error",
     "traceback": [
      "\u001b[1;31m---------------------------------------------------------------------------\u001b[0m",
      "\u001b[1;31mTypeError\u001b[0m                                 Traceback (most recent call last)",
      "\u001b[1;32m<ipython-input-17-ba0897a0bc2d>\u001b[0m in \u001b[0;36m<module>\u001b[1;34m\u001b[0m\n\u001b[1;32m----> 1\u001b[1;33m \u001b[0mfullname\u001b[0m\u001b[1;33m(\u001b[0m\u001b[1;34m'Dogu'\u001b[0m\u001b[1;33m)\u001b[0m\u001b[1;33m\u001b[0m\u001b[1;33m\u001b[0m\u001b[0m\n\u001b[0m",
      "\u001b[1;31mTypeError\u001b[0m: fullname() missing 2 required positional arguments: 'middlename' and 'lastname'"
     ]
    }
   ],
   "source": [
    "fullname('Dogu')"
   ]
  },
  {
   "cell_type": "code",
   "execution_count": 20,
   "id": "7ca0fbb2",
   "metadata": {},
   "outputs": [
    {
     "name": "stdout",
     "output_type": "stream",
     "text": [
      "En kalabalık şehir :-  Mexico City\n"
     ]
    }
   ],
   "source": [
    "def myfunc(city = 'Istanbul'):\n",
    "    print('En kalabalık şehir :- ', city)\n",
    "    \n",
    "myfunc('Mexico City')"
   ]
  },
  {
   "cell_type": "code",
   "execution_count": 21,
   "id": "e1320630",
   "metadata": {},
   "outputs": [
    {
     "name": "stdout",
     "output_type": "stream",
     "text": [
      "100\n",
      "100\n"
     ]
    }
   ],
   "source": [
    "var1 = 100 \n",
    "\n",
    "def myfunc():\n",
    "    print(var1)\n",
    "    \n",
    "myfunc()\n",
    "print(var1)"
   ]
  },
  {
   "cell_type": "code",
   "execution_count": 24,
   "id": "d4d92d61",
   "metadata": {},
   "outputs": [
    {
     "name": "stdout",
     "output_type": "stream",
     "text": [
      "10\n"
     ]
    },
    {
     "ename": "NameError",
     "evalue": "name 'var2' is not defined",
     "output_type": "error",
     "traceback": [
      "\u001b[1;31m---------------------------------------------------------------------------\u001b[0m",
      "\u001b[1;31mNameError\u001b[0m                                 Traceback (most recent call last)",
      "\u001b[1;32m<ipython-input-24-d0ff10e1744f>\u001b[0m in \u001b[0;36m<module>\u001b[1;34m\u001b[0m\n\u001b[0;32m      8\u001b[0m \u001b[1;33m\u001b[0m\u001b[0m\n\u001b[0;32m      9\u001b[0m \u001b[0mmyfunc1\u001b[0m\u001b[1;33m(\u001b[0m\u001b[1;33m)\u001b[0m\u001b[1;33m\u001b[0m\u001b[1;33m\u001b[0m\u001b[0m\n\u001b[1;32m---> 10\u001b[1;33m \u001b[0mmyfunc2\u001b[0m\u001b[1;33m(\u001b[0m\u001b[1;33m)\u001b[0m\u001b[1;33m\u001b[0m\u001b[1;33m\u001b[0m\u001b[0m\n\u001b[0m",
      "\u001b[1;32m<ipython-input-24-d0ff10e1744f>\u001b[0m in \u001b[0;36mmyfunc2\u001b[1;34m()\u001b[0m\n\u001b[0;32m      5\u001b[0m \u001b[1;32mdef\u001b[0m \u001b[0mmyfunc2\u001b[0m\u001b[1;33m(\u001b[0m\u001b[1;33m)\u001b[0m\u001b[1;33m:\u001b[0m\u001b[1;33m\u001b[0m\u001b[1;33m\u001b[0m\u001b[0m\n\u001b[0;32m      6\u001b[0m     \u001b[1;31m#var2 = 22\u001b[0m\u001b[1;33m\u001b[0m\u001b[1;33m\u001b[0m\u001b[1;33m\u001b[0m\u001b[0m\n\u001b[1;32m----> 7\u001b[1;33m     \u001b[0mprint\u001b[0m\u001b[1;33m(\u001b[0m\u001b[0mvar2\u001b[0m\u001b[1;33m)\u001b[0m\u001b[1;33m\u001b[0m\u001b[1;33m\u001b[0m\u001b[0m\n\u001b[0m\u001b[0;32m      8\u001b[0m \u001b[1;33m\u001b[0m\u001b[0m\n\u001b[0;32m      9\u001b[0m \u001b[0mmyfunc1\u001b[0m\u001b[1;33m(\u001b[0m\u001b[1;33m)\u001b[0m\u001b[1;33m\u001b[0m\u001b[1;33m\u001b[0m\u001b[0m\n",
      "\u001b[1;31mNameError\u001b[0m: name 'var2' is not defined"
     ]
    }
   ],
   "source": [
    "def myfunc1():\n",
    "    var2 = 10 #yerel kapsamlı değişken\n",
    "    print(var2)\n",
    "    \n",
    "def myfunc2():\n",
    "    #var2 = 22\n",
    "    print(var2)\n",
    "    \n",
    "myfunc1()\n",
    "myfunc2()"
   ]
  },
  {
   "cell_type": "code",
   "execution_count": 25,
   "id": "a686496e",
   "metadata": {},
   "outputs": [
    {
     "name": "stdout",
     "output_type": "stream",
     "text": [
      "99\n",
      "100\n"
     ]
    }
   ],
   "source": [
    "var1 = 100\n",
    "\n",
    "def myfunc():\n",
    "    var1 = 99\n",
    "    print(var1)\n",
    "    \n",
    "myfunc()\n",
    "print(var1)"
   ]
  },
  {
   "cell_type": "code",
   "execution_count": 26,
   "id": "1440af17",
   "metadata": {},
   "outputs": [
    {
     "name": "stdout",
     "output_type": "stream",
     "text": [
      "\"List1\" fonksiyonu çağırmadan önce :-  [11, 22, 33, 44, 55]\n",
      "\"List1\" fonksiyonu çağırdıktan sonra :-  [22, 33, 44, 55]\n"
     ]
    }
   ],
   "source": [
    "list1 = [11, 22, 33, 44, 55]\n",
    "\n",
    "def myfunc(list1):\n",
    "    del list1[0]\n",
    "    \n",
    "print('\"List1\" fonksiyonu çağırmadan önce :- ', list1)\n",
    "myfunc(list1) #pass by reference -> fonksiyon içerisindeki bir parametredeki herhangi bir değişim, çağıran fonksiyon içerisinde \n",
    "#de yansır. \n",
    "print('\"List1\" fonksiyonu çağırdıktan sonra :- ', list1) "
   ]
  },
  {
   "cell_type": "code",
   "execution_count": 27,
   "id": "5941bb3c",
   "metadata": {},
   "outputs": [
    {
     "name": "stdout",
     "output_type": "stream",
     "text": [
      "\"List1\" fonksiyonu çağırmadan önce :-  [11, 22, 33, 44, 55]\n",
      "\"List1\" fonksiyonu çağırdıktan sonra :-  [11, 22, 33, 44, 55, 100]\n"
     ]
    }
   ],
   "source": [
    "list1 = [11, 22, 33, 44, 55]\n",
    "\n",
    "def myfunc(list1):\n",
    "    list1.append(100)\n",
    "    \n",
    "print('\"List1\" fonksiyonu çağırmadan önce :- ', list1)\n",
    "myfunc(list1) \n",
    "print('\"List1\" fonksiyonu çağırdıktan sonra :- ', list1) "
   ]
  },
  {
   "cell_type": "code",
   "execution_count": 28,
   "id": "f0671139",
   "metadata": {},
   "outputs": [
    {
     "name": "stdout",
     "output_type": "stream",
     "text": [
      "\"List1\" fonksiyonu çağırmadan önce :-  [11, 22, 33, 44, 55]\n",
      "\"List1\" fonksiyonu çağırdıktan sonra :-  [11, 22, 33, 44, 55]\n"
     ]
    }
   ],
   "source": [
    "list1 = [11, 22, 33, 44, 55]\n",
    "\n",
    "def myfunc(list1):\n",
    "    list1 = [10, 100, 1000, 10000]\n",
    "    \n",
    "print('\"List1\" fonksiyonu çağırmadan önce :- ', list1)\n",
    "myfunc(list1) \n",
    "print('\"List1\" fonksiyonu çağırdıktan sonra :- ', list1) "
   ]
  },
  {
   "cell_type": "code",
   "execution_count": 46,
   "id": "442217ab",
   "metadata": {},
   "outputs": [
    {
     "data": {
      "text/plain": [
       "(20, 10)"
      ]
     },
     "execution_count": 46,
     "metadata": {},
     "output_type": "execute_result"
    }
   ],
   "source": [
    "def swap(a, b):\n",
    "    a, b = b, a\n",
    "    return a, b\n",
    "    \n",
    "a = 10\n",
    "b = 20\n",
    "swap(a, b)"
   ]
  },
  {
   "cell_type": "code",
   "execution_count": 53,
   "id": "b9cb5c41",
   "metadata": {},
   "outputs": [
    {
     "data": {
      "text/plain": [
       "3628800"
      ]
     },
     "execution_count": 53,
     "metadata": {},
     "output_type": "execute_result"
    }
   ],
   "source": [
    "def factorial(num): # 4! = 4*3*2*1*0!\n",
    "    if num <= 1 :\n",
    "        return 1\n",
    "    else:\n",
    "        return num * factorial(num - 1)\n",
    "    \n",
    "factorial(10)"
   ]
  },
  {
   "cell_type": "code",
   "execution_count": 55,
   "id": "48c9798a",
   "metadata": {},
   "outputs": [
    {
     "data": {
      "text/plain": [
       "55"
      ]
     },
     "execution_count": 55,
     "metadata": {},
     "output_type": "execute_result"
    }
   ],
   "source": [
    "def add(num):\n",
    "    if num == 0:\n",
    "        return 0\n",
    "    else:\n",
    "        return num + add(num - 1)\n",
    "\n",
    "add(10)"
   ]
  },
  {
   "cell_type": "code",
   "execution_count": 60,
   "id": "acfa1e6f",
   "metadata": {},
   "outputs": [
    {
     "name": "stdout",
     "output_type": "stream",
     "text": [
      "Kaç adet fibonacci sayısı üretmek istiyorsunuz? - 10\n",
      "0 1 1 2 3 5 8 13 21 34 "
     ]
    }
   ],
   "source": [
    "def fibonacci(num):\n",
    "    if num <= 1:\n",
    "        return num\n",
    "    if num == 2:\n",
    "        return 1\n",
    "    else:\n",
    "        return(fibonacci (num-1) + fibonacci(num-2))\n",
    "    \n",
    "nums = int(input(\"Kaç adet fibonacci sayısı üretmek istiyorsunuz? - \"))\n",
    "\n",
    "for i in range(nums):\n",
    "    print(fibonacci(i), end=' ')"
   ]
  },
  {
   "cell_type": "code",
   "execution_count": null,
   "id": "65fff7d3",
   "metadata": {},
   "outputs": [],
   "source": []
  }
 ],
 "metadata": {
  "kernelspec": {
   "display_name": "Python 3",
   "language": "python",
   "name": "python3"
  },
  "language_info": {
   "codemirror_mode": {
    "name": "ipython",
    "version": 3
   },
   "file_extension": ".py",
   "mimetype": "text/x-python",
   "name": "python",
   "nbconvert_exporter": "python",
   "pygments_lexer": "ipython3",
   "version": "3.8.8"
  }
 },
 "nbformat": 4,
 "nbformat_minor": 5
}
