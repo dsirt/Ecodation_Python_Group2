{
 "cells": [
  {
   "cell_type": "code",
   "execution_count": 1,
   "id": "6f14232e",
   "metadata": {},
   "outputs": [],
   "source": [
    "def main():\n",
    "    \n",
    "    out = open('philo.txt', 'w')\n",
    "    \n",
    "    out.write('John Locke\\n')\n",
    "    out.write('Arthur Schopenhauer\\n')\n",
    "    out.write('David Hume\\n')\n",
    "    out.write('Edmund Burke\\n')\n",
    "    \n",
    "    out.close()\n",
    "    \n",
    "main()"
   ]
  },
  {
   "cell_type": "code",
   "execution_count": 2,
   "id": "ea40338f",
   "metadata": {},
   "outputs": [
    {
     "name": "stdout",
     "output_type": "stream",
     "text": [
      "1000.00\n",
      "2000.00\n",
      "3000.00\n",
      "4000.00\n",
      "5000.00\n"
     ]
    }
   ],
   "source": [
    "def main():\n",
    "    \n",
    "    sales_file = open('sales.txt', 'r')\n",
    "    \n",
    "    line = sales_file.readline()\n",
    "    \n",
    "    while line != '':\n",
    "        \n",
    "        amount = float(line)\n",
    "        \n",
    "        print(format(amount, '.2f'))\n",
    "        \n",
    "        line = sales_file.readline()\n",
    "        \n",
    "    sales_file.close()\n",
    "    \n",
    "main()"
   ]
  },
  {
   "cell_type": "code",
   "execution_count": 7,
   "id": "70a0fc81",
   "metadata": {},
   "outputs": [
    {
     "name": "stdout",
     "output_type": "stream",
     "text": [
      "How many hours did you work? 37\n",
      "Enter your hourly pay rate: 3.57\n",
      "Gross pay: $132.09\n"
     ]
    }
   ],
   "source": [
    "def main():\n",
    "    \n",
    "    try:\n",
    "\n",
    "        hours = int(input('How many hours did you work? '))\n",
    "\n",
    "\n",
    "        pay_rate = float(input('Enter your hourly pay rate: '))\n",
    "\n",
    "\n",
    "        gross_pay = hours * pay_rate\n",
    "\n",
    "            \n",
    "        print('Gross pay: $', format(gross_pay, ',.2f'), sep='')\n",
    "    \n",
    "    except ValueError:\n",
    "            \n",
    "        print('ERROR: Hours worked and hourly pay rate must')\n",
    "        \n",
    "        print('be valid integers.')\n",
    "\n",
    "\n",
    "main()"
   ]
  },
  {
   "cell_type": "code",
   "execution_count": null,
   "id": "74107e05",
   "metadata": {},
   "outputs": [],
   "source": [
    "fileobj = open('test1.txt') #read-text mode"
   ]
  },
  {
   "cell_type": "code",
   "execution_count": null,
   "id": "c9bbdaa6",
   "metadata": {},
   "outputs": [],
   "source": [
    "fileobj = open('test1.txt', 'r')"
   ]
  },
  {
   "cell_type": "code",
   "execution_count": null,
   "id": "a5efdf92",
   "metadata": {},
   "outputs": [],
   "source": [
    "fileobj = open('test1.txt', 'w')"
   ]
  },
  {
   "cell_type": "code",
   "execution_count": 8,
   "id": "93e50c97",
   "metadata": {},
   "outputs": [],
   "source": [
    "fileobj = open('test1.txt', 'a')"
   ]
  },
  {
   "cell_type": "code",
   "execution_count": 9,
   "id": "6e1037b7",
   "metadata": {},
   "outputs": [],
   "source": [
    "fileobj.close()"
   ]
  },
  {
   "cell_type": "code",
   "execution_count": 13,
   "id": "0723a2cf",
   "metadata": {},
   "outputs": [],
   "source": [
    "fileobj = open('test1.txt')"
   ]
  },
  {
   "cell_type": "code",
   "execution_count": 14,
   "id": "896e0fc5",
   "metadata": {},
   "outputs": [
    {
     "data": {
      "text/plain": [
       "'Python generators are easy way of creating iterators. It generates values one at a time from a given sequence instead of returning the entire sequence at once.\\\\nIt has a special type of function which returns an iterator object.\\\\n'"
      ]
     },
     "execution_count": 14,
     "metadata": {},
     "output_type": "execute_result"
    }
   ],
   "source": [
    "fileobj.read()"
   ]
  },
  {
   "cell_type": "code",
   "execution_count": 15,
   "id": "560ad3f4",
   "metadata": {},
   "outputs": [
    {
     "data": {
      "text/plain": [
       "''"
      ]
     },
     "execution_count": 15,
     "metadata": {},
     "output_type": "execute_result"
    }
   ],
   "source": [
    "fileobj.read()"
   ]
  },
  {
   "cell_type": "code",
   "execution_count": 16,
   "id": "d974f6f1",
   "metadata": {},
   "outputs": [
    {
     "data": {
      "text/plain": [
       "'Python generators are easy way of creating iterators. It generates values one at a time from a given sequence instead of returning the entire sequence at once.\\\\nIt has a special type of function which returns an iterator object.\\\\n'"
      ]
     },
     "execution_count": 16,
     "metadata": {},
     "output_type": "execute_result"
    }
   ],
   "source": [
    "fileobj.seek(0)\n",
    "fileobj.read()"
   ]
  },
  {
   "cell_type": "code",
   "execution_count": 17,
   "id": "834a3f10",
   "metadata": {},
   "outputs": [
    {
     "data": {
      "text/plain": [
       "'generators are easy way of creating iterators. It generates values one at a time from a given sequence instead of returning the entire sequence at once.\\\\nIt has a special type of function which returns an iterator object.\\\\n'"
      ]
     },
     "execution_count": 17,
     "metadata": {},
     "output_type": "execute_result"
    }
   ],
   "source": [
    "fileobj.seek(7)\n",
    "fileobj.read()"
   ]
  },
  {
   "cell_type": "code",
   "execution_count": 18,
   "id": "d13d8625",
   "metadata": {},
   "outputs": [
    {
     "data": {
      "text/plain": [
       "'Python generator'"
      ]
     },
     "execution_count": 18,
     "metadata": {},
     "output_type": "execute_result"
    }
   ],
   "source": [
    "fileobj.seek(0)\n",
    "fileobj.read(16)"
   ]
  },
  {
   "cell_type": "code",
   "execution_count": 19,
   "id": "3e873cef",
   "metadata": {},
   "outputs": [
    {
     "data": {
      "text/plain": [
       "16"
      ]
     },
     "execution_count": 19,
     "metadata": {},
     "output_type": "execute_result"
    }
   ],
   "source": [
    "fileobj.tell()"
   ]
  },
  {
   "cell_type": "code",
   "execution_count": 23,
   "id": "6d4f21a6",
   "metadata": {},
   "outputs": [
    {
     "name": "stdout",
     "output_type": "stream",
     "text": [
      "Python generators are easy way of creating iterators. It generates values one at a time from a given sequence instead of returning the\\n \n",
      "\n",
      "entire sequence at once.\\n\n",
      "\n",
      "It has a special type of function which returns an iterator object.\\n\n"
     ]
    }
   ],
   "source": [
    "fileobj.seek(0)\n",
    "print(fileobj.readline())\n",
    "print(fileobj.readline())\n",
    "print(fileobj.readline())"
   ]
  },
  {
   "cell_type": "code",
   "execution_count": 24,
   "id": "cc3f7cc6",
   "metadata": {},
   "outputs": [
    {
     "data": {
      "text/plain": [
       "['Python generators are easy way of creating iterators. It generates values one at a time from a given sequence instead of returning the\\\\n \\n',\n",
       " 'entire sequence at once.\\\\n\\n',\n",
       " 'It has a special type of function which returns an iterator object.\\\\n']"
      ]
     },
     "execution_count": 24,
     "metadata": {},
     "output_type": "execute_result"
    }
   ],
   "source": [
    "fileobj.seek(0)\n",
    "\n",
    "fileobj.readlines()"
   ]
  },
  {
   "cell_type": "code",
   "execution_count": 26,
   "id": "a80a1ebe",
   "metadata": {},
   "outputs": [
    {
     "name": "stdout",
     "output_type": "stream",
     "text": [
      "Python generators are easy way of creating iterators. It generates values one at a time from a given sequence instead of returning the\\n \n",
      "\n",
      "entire sequence at once.\\n\n",
      "\n",
      "It has a special type of function which returns an iterator object.\\n\n"
     ]
    }
   ],
   "source": [
    "fileobj.seek(0)\n",
    "\n",
    "count = 0\n",
    "for i in range(3):\n",
    "    if count < 3:\n",
    "        print(fileobj.readline())\n",
    "    else:\n",
    "        break\n",
    "    count += 1"
   ]
  },
  {
   "cell_type": "code",
   "execution_count": 27,
   "id": "2b4d57cb",
   "metadata": {},
   "outputs": [
    {
     "data": {
      "text/plain": [
       "'Python generators are easy way of creating iterators. It generates values one at a time from a given sequence instead of returning the\\\\n \\nentire sequence at once.\\\\n\\nIt has a special type of function which returns an iterator object.\\\\nTHIS IS THE NEW CONTENT APPENDED IN THE FILE'"
      ]
     },
     "execution_count": 27,
     "metadata": {},
     "output_type": "execute_result"
    }
   ],
   "source": [
    "fileobj = open('test1.txt', 'a')\n",
    "\n",
    "fileobj.write('THIS IS THE NEW CONTENT APPENDED IN THE FILE')\n",
    "\n",
    "fileobj.close()\n",
    "\n",
    "fileobj = open('test1.txt')\n",
    "\n",
    "fileobj.read()"
   ]
  },
  {
   "cell_type": "code",
   "execution_count": 28,
   "id": "ec5d60f1",
   "metadata": {},
   "outputs": [
    {
     "data": {
      "text/plain": [
       "'NEW CONTENT ADDED IN THE FILE. PREVIOUS CONTENT HAS BEEN OVERWRITTEN'"
      ]
     },
     "execution_count": 28,
     "metadata": {},
     "output_type": "execute_result"
    }
   ],
   "source": [
    "fileobj = open('test1.txt', 'w')\n",
    "\n",
    "fileobj.write('NEW CONTENT ADDED IN THE FILE. PREVIOUS CONTENT HAS BEEN OVERWRITTEN')\n",
    "\n",
    "fileobj.close()\n",
    "\n",
    "fileobj = open('test1.txt')\n",
    "\n",
    "fileobj.read()"
   ]
  },
  {
   "cell_type": "code",
   "execution_count": 29,
   "id": "afa474bf",
   "metadata": {},
   "outputs": [
    {
     "data": {
      "text/plain": [
       "['Ilk satir\\n',\n",
       " 'Ikinci satir\\n',\n",
       " 'Ucuncu satir\\n',\n",
       " 'Dorduncu satir\\n',\n",
       " 'Besinci satir\\n']"
      ]
     },
     "execution_count": 29,
     "metadata": {},
     "output_type": "execute_result"
    }
   ],
   "source": [
    "fileobj = open('test0509.txt', 'w')\n",
    "\n",
    "fileobj.write('Ilk satir\\n')\n",
    "fileobj.write('Ikinci satir\\n')\n",
    "fileobj.write('Ucuncu satir\\n')\n",
    "fileobj.write('Dorduncu satir\\n')\n",
    "fileobj.write('Besinci satir\\n')\n",
    "\n",
    "fileobj.close()\n",
    "\n",
    "fileobj = open('test0509.txt')\n",
    "\n",
    "fileobj.readlines()"
   ]
  },
  {
   "cell_type": "code",
   "execution_count": 30,
   "id": "9f476f16",
   "metadata": {},
   "outputs": [
    {
     "ename": "FileNotFoundError",
     "evalue": "[WinError 2] Sistem belirtilen dosyayı bulamıyor: 'test3.txt'",
     "output_type": "error",
     "traceback": [
      "\u001b[1;31m---------------------------------------------------------------------------\u001b[0m",
      "\u001b[1;31mFileNotFoundError\u001b[0m                         Traceback (most recent call last)",
      "\u001b[1;32m<ipython-input-30-8f50a6e5b625>\u001b[0m in \u001b[0;36m<module>\u001b[1;34m\u001b[0m\n\u001b[0;32m      1\u001b[0m \u001b[1;32mimport\u001b[0m \u001b[0mos\u001b[0m\u001b[1;33m\u001b[0m\u001b[1;33m\u001b[0m\u001b[0m\n\u001b[0;32m      2\u001b[0m \u001b[1;33m\u001b[0m\u001b[0m\n\u001b[1;32m----> 3\u001b[1;33m \u001b[0mos\u001b[0m\u001b[1;33m.\u001b[0m\u001b[0mremove\u001b[0m\u001b[1;33m(\u001b[0m\u001b[1;34m'test3.txt'\u001b[0m\u001b[1;33m)\u001b[0m\u001b[1;33m\u001b[0m\u001b[1;33m\u001b[0m\u001b[0m\n\u001b[0m",
      "\u001b[1;31mFileNotFoundError\u001b[0m: [WinError 2] Sistem belirtilen dosyayı bulamıyor: 'test3.txt'"
     ]
    }
   ],
   "source": [
    "import os\n",
    "\n",
    "os.remove('test3.txt')"
   ]
  },
  {
   "cell_type": "code",
   "execution_count": 22,
   "id": "f8a0f0da",
   "metadata": {},
   "outputs": [],
   "source": [
    "import os\n",
    "\n",
    "os.rmdir('MNIST_data/')"
   ]
  },
  {
   "cell_type": "code",
   "execution_count": 25,
   "id": "eda17a59",
   "metadata": {},
   "outputs": [
    {
     "name": "stdout",
     "output_type": "stream",
     "text": [
      "Aşağıdaki istisna oluşur : \n",
      "[WinError 2] Sistem belirtilen dosyayı bulamıyor: 'test3.txt'\n",
      "\n",
      "Burayi her zaman kostur\n"
     ]
    }
   ],
   "source": [
    "import os\n",
    "import sys\n",
    "\n",
    "try:\n",
    "    \n",
    "    os.remove(\"test3.txt\")\n",
    "    \n",
    "except:\n",
    "    \n",
    "    print(\"Aşağıdaki istisna oluşur : \")\n",
    "    print(sys.exc_info()[1])\n",
    "    \n",
    "else:\n",
    "    \n",
    "    print('\\nHerhangi bir istisna olusmaz')\n",
    "          \n",
    "finally:\n",
    "    \n",
    "    print('\\nBurayi her zaman kostur')"
   ]
  },
  {
   "cell_type": "code",
   "execution_count": 4,
   "id": "50485de9",
   "metadata": {},
   "outputs": [
    {
     "name": "stdout",
     "output_type": "stream",
     "text": [
      "Ilk sayiyi giriniz :- 12\n",
      "Ikinci sayiyi giriniz :- 13\n",
      "0.9230769230769231\n",
      "NameError istisnasi olustu\n"
     ]
    }
   ],
   "source": [
    "try:\n",
    "    x = int(input('Ilk sayiyi giriniz :- '))\n",
    "    y = int(input('Ikinci sayiyi giriniz :- '))\n",
    "    print(x/y)\n",
    "    os.remove('test3.txt')\n",
    "    \n",
    "except FileNotFoundError:\n",
    "    print('FileNotFoundError istisnasi olustu')\n",
    "    \n",
    "except NameError:\n",
    "    print('NameError istisnasi olustu')\n",
    "    \n",
    "except ZeroDivisionError:\n",
    "    print('ZeroDivisionError istisnasi olustu')"
   ]
  },
  {
   "cell_type": "code",
   "execution_count": 8,
   "id": "5be9c789",
   "metadata": {},
   "outputs": [
    {
     "name": "stdout",
     "output_type": "stream",
     "text": [
      "Enter a number :- 100\n",
      "<class 'ValueError'>\n"
     ]
    }
   ],
   "source": [
    "import sys\n",
    "\n",
    "try:\n",
    "    x = int(input('Enter a number :- '))\n",
    "    if x > 50:\n",
    "        raise ValueError(x)\n",
    "        \n",
    "except:\n",
    "    print(sys.exc_info()[0])"
   ]
  },
  {
   "cell_type": "code",
   "execution_count": 14,
   "id": "95d6bcca",
   "metadata": {},
   "outputs": [
    {
     "name": "stdout",
     "output_type": "stream",
     "text": [
      "Ilk satir\n",
      "Ikinci satir\n",
      "Ucuncu satir\n",
      "Dorduncu satir\n",
      "Besinci satir\n"
     ]
    }
   ],
   "source": [
    "#with operator \n",
    "\n",
    "with open('test0509.txt') as myfile:\n",
    "    for line in myfile:\n",
    "        print(line, end='')"
   ]
  },
  {
   "cell_type": "code",
   "execution_count": null,
   "id": "cb62f2cf",
   "metadata": {},
   "outputs": [],
   "source": [
    "myfile = open('test0509.txt')"
   ]
  },
  {
   "cell_type": "code",
   "execution_count": 16,
   "id": "eb3a82b3",
   "metadata": {},
   "outputs": [
    {
     "name": "stdout",
     "output_type": "stream",
     "text": [
      "Bir IOError olustu\n"
     ]
    }
   ],
   "source": [
    "try:\n",
    "\n",
    "    with open('test050921.txt') as myfile:\n",
    "        for line in myfile:\n",
    "            print(line, end='')\n",
    "            \n",
    "except IOError:\n",
    "    print(\"Bir IOError olustu\")"
   ]
  },
  {
   "cell_type": "code",
   "execution_count": 21,
   "id": "b51f3dce",
   "metadata": {
    "scrolled": true
   },
   "outputs": [
    {
     "name": "stdout",
     "output_type": "stream",
     "text": [
      "Ilk satir\n",
      "Ikinci satir\n",
      "Ucuncu satir\n",
      "Dorduncu satir\n",
      "Besinci satir\n",
      "\n",
      "\n"
     ]
    }
   ],
   "source": [
    "myfile = open('test0509.txt', 'r')\n",
    "\n",
    "while True:\n",
    "    data = myfile.read(71)\n",
    "    print(data)\n",
    "    if not data:\n",
    "        break"
   ]
  },
  {
   "cell_type": "code",
   "execution_count": 26,
   "id": "0d28423c",
   "metadata": {},
   "outputs": [
    {
     "name": "stdout",
     "output_type": "stream",
     "text": [
      "['domates\\n', 'biber\\n', 'patlican']\n"
     ]
    }
   ],
   "source": [
    "with open('alisverislistesi.txt', 'w') as fileobj:\n",
    "    fileobj.write('domates\\nbiber\\npatlican')\n",
    "    \n",
    "with open('alisverislistesi.txt', 'r') as fileobj:\n",
    "    lines = fileobj.readlines()\n",
    "\n",
    "print(lines)\n",
    "\n",
    "with open('alisverislistesi.txt', 'r') as fileobj:\n",
    "    content = fileobj.read()\n",
    "    lines = content.split('\\n')"
   ]
  },
  {
   "cell_type": "code",
   "execution_count": 28,
   "id": "2403b30e",
   "metadata": {},
   "outputs": [
    {
     "name": "stdout",
     "output_type": "stream",
     "text": [
      "['domates', 'biber', 'patlican']\n"
     ]
    }
   ],
   "source": [
    "with open('alisverislistesi.txt', 'r') as fileobj:\n",
    "    lines = []\n",
    "    for line in fileobj:\n",
    "        lines.append(line.strip())\n",
    "        \n",
    "print(lines)"
   ]
  }
 ],
 "metadata": {
  "kernelspec": {
   "display_name": "Python 3",
   "language": "python",
   "name": "python3"
  },
  "language_info": {
   "codemirror_mode": {
    "name": "ipython",
    "version": 3
   },
   "file_extension": ".py",
   "mimetype": "text/x-python",
   "name": "python",
   "nbconvert_exporter": "python",
   "pygments_lexer": "ipython3",
   "version": "3.8.8"
  }
 },
 "nbformat": 4,
 "nbformat_minor": 5
}
