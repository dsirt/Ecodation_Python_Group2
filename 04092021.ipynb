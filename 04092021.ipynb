{
 "cells": [
  {
   "cell_type": "code",
   "execution_count": 3,
   "id": "c56d3e3e",
   "metadata": {},
   "outputs": [
    {
     "name": "stdout",
     "output_type": "stream",
     "text": [
      "Bu bir özyinelemeli fonksiyondur\n",
      "10\n",
      "Bu bir özyinelemeli fonksiyondur\n",
      "11\n",
      "Bu bir özyinelemeli fonksiyondur\n",
      "12\n",
      "Bu bir özyinelemeli fonksiyondur\n",
      "13\n",
      "Bu bir özyinelemeli fonksiyondur\n",
      "14\n",
      "Bu bir özyinelemeli fonksiyondur\n",
      "15\n",
      "Bu bir özyinelemeli fonksiyondur\n",
      "16\n",
      "Bu bir özyinelemeli fonksiyondur\n",
      "17\n",
      "Bu bir özyinelemeli fonksiyondur\n",
      "18\n",
      "Bu bir özyinelemeli fonksiyondur\n",
      "19\n"
     ]
    }
   ],
   "source": [
    "def message(kackez):\n",
    "    if kackez > 0 and kackez < 20:\n",
    "        print('Bu bir özyinelemeli fonksiyondur')\n",
    "        print(kackez)\n",
    "        message(kackez + 1)\n",
    "        \n",
    "message(10)"
   ]
  },
  {
   "cell_type": "code",
   "execution_count": 4,
   "id": "cc0c75fa",
   "metadata": {},
   "outputs": [
    {
     "name": "stdout",
     "output_type": "stream",
     "text": [
      "2 ila 5. dizinler arası toplam :-  18\n"
     ]
    }
   ],
   "source": [
    "def main():\n",
    "    \n",
    "    sayilar = [1, 2, 3, 4, 5, 6, 7, 8, 9]\n",
    "    \n",
    "    my_sum = range_sum(sayilar, 2, 5)\n",
    "    \n",
    "    print('2 ila 5. dizinler arası toplam :- ', my_sum)\n",
    "    \n",
    "\n",
    "def range_sum(num_list, start, end):\n",
    "    if start > end:\n",
    "        return 0\n",
    "    else:\n",
    "        return num_list[start] + range_sum(num_list, start + 1, end)\n",
    "    \n",
    "main()"
   ]
  },
  {
   "cell_type": "code",
   "execution_count": 9,
   "id": "4fc925d7",
   "metadata": {},
   "outputs": [
    {
     "name": "stdout",
     "output_type": "stream",
     "text": [
      "Fibonacci serisindeki ilk 2 sayi :-\n",
      "1\n",
      "1\n"
     ]
    }
   ],
   "source": [
    "def main():\n",
    "    \n",
    "    print('Fibonacci serisindeki ilk 2 sayi :-')\n",
    "    \n",
    "    for num in range(1, 3):\n",
    "        print(fib(num))\n",
    "        \n",
    "def fib(n):\n",
    "    if n == 0:\n",
    "        return 0\n",
    "    elif n == 1:\n",
    "        return 1\n",
    "    else:\n",
    "        return fib(n - 1) + fib(n - 2)\n",
    "    \n",
    "main()"
   ]
  },
  {
   "cell_type": "code",
   "execution_count": 11,
   "id": "7ca78466",
   "metadata": {},
   "outputs": [
    {
     "name": "stdout",
     "output_type": "stream",
     "text": [
      "Enter an integer: 124\n",
      "Enter another integer: 62\n",
      "Iki sayinin GCDsi :-  62\n"
     ]
    }
   ],
   "source": [
    "def main():\n",
    "    \n",
    "    num1 = int(input('Enter an integer: '))\n",
    "    num2 = int(input('Enter another integer: '))\n",
    "    \n",
    "    print('Iki sayinin GCDsi :- ', gcd(num1, num2))\n",
    "    \n",
    "def gcd(x, y):\n",
    "    if x % y == 0:\n",
    "        return y\n",
    "    else:\n",
    "        return gcd(x, x % y)\n",
    "        \n",
    "main()"
   ]
  },
  {
   "cell_type": "code",
   "execution_count": 26,
   "id": "2d2cbfb8",
   "metadata": {},
   "outputs": [
    {
     "name": "stdout",
     "output_type": "stream",
     "text": [
      "1 .peg'den 3 .peg'e disk geçişi oldu\n",
      "1 .peg'den 2 .peg'e disk geçişi oldu\n",
      "3 .peg'den 2 .peg'e disk geçişi oldu\n",
      "1 .peg'den 3 .peg'e disk geçişi oldu\n",
      "2 .peg'den 1 .peg'e disk geçişi oldu\n",
      "2 .peg'den 3 .peg'e disk geçişi oldu\n",
      "1 .peg'den 3 .peg'e disk geçişi oldu\n",
      "Bütün pegler hareket ettirildi!\n"
     ]
    }
   ],
   "source": [
    "def main():\n",
    "    \n",
    "    #değer atamaları\n",
    "    num_discs = 3\n",
    "    from_peg = 1\n",
    "    to_peg = 3\n",
    "    temp_peg = 2\n",
    "    \n",
    "    move_discs(num_discs, from_peg, to_peg, temp_peg)\n",
    "    print('Bütün pegler hareket ettirildi!')\n",
    "    \n",
    "def move_discs(num, from_peg, to_peg, temp_peg):\n",
    "    if num > 0:\n",
    "        move_discs(num-1, from_peg, temp_peg, to_peg)\n",
    "        print( from_peg,\".peg'den\", to_peg, \".peg'e disk geçişi oldu\")\n",
    "        move_discs(num-1, temp_peg, to_peg, from_peg)\n",
    "\n",
    "main()"
   ]
  },
  {
   "cell_type": "code",
   "execution_count": 30,
   "id": "a075f3f8",
   "metadata": {},
   "outputs": [
    {
     "name": "stdout",
     "output_type": "stream",
     "text": [
      "Enter the number of disks3\n",
      "Move disk 1 from rod A to rod C\n",
      "Move disk 2 from rod A to rod B\n",
      "Move disk 1 from rod C to rod B\n",
      "Move disk 3 from rod A to rod C\n",
      "Move disk 1 from rod B to rod A\n",
      "Move disk 2 from rod B to rod C\n",
      "Move disk 1 from rod A to rod C\n"
     ]
    }
   ],
   "source": [
    "def TowerOfHanoi(n , from_rod, to_rod, aux_rod):\n",
    "    if n == 1:\n",
    "        print(\"Move disk 1 from rod\",from_rod,\"to rod\",to_rod)\n",
    "        return\n",
    "    TowerOfHanoi(n-1, from_rod, aux_rod, to_rod)\n",
    "    print(\"Move disk\",n,\"from rod\",from_rod,\"to rod\",to_rod)\n",
    "    TowerOfHanoi(n-1, aux_rod, to_rod, from_rod)\n",
    "         \n",
    "\n",
    "n = int(input(\"Enter the number of disks\"))\n",
    "TowerOfHanoi(n, 'A', 'C', 'B')\n",
    "\n"
   ]
  },
  {
   "cell_type": "code",
   "execution_count": null,
   "id": "7c8cef24",
   "metadata": {},
   "outputs": [],
   "source": []
  }
 ],
 "metadata": {
  "kernelspec": {
   "display_name": "Python 3",
   "language": "python",
   "name": "python3"
  },
  "language_info": {
   "codemirror_mode": {
    "name": "ipython",
    "version": 3
   },
   "file_extension": ".py",
   "mimetype": "text/x-python",
   "name": "python",
   "nbconvert_exporter": "python",
   "pygments_lexer": "ipython3",
   "version": "3.8.8"
  }
 },
 "nbformat": 4,
 "nbformat_minor": 5
}
