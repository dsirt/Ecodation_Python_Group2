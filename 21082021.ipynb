{
 "cells": [
  {
   "cell_type": "code",
   "execution_count": 1,
   "id": "25479801",
   "metadata": {},
   "outputs": [],
   "source": [
    "list1 = [] "
   ]
  },
  {
   "cell_type": "code",
   "execution_count": 2,
   "id": "5691e5b3",
   "metadata": {},
   "outputs": [
    {
     "name": "stdout",
     "output_type": "stream",
     "text": [
      "<class 'list'>\n"
     ]
    }
   ],
   "source": [
    "print(type(list1))"
   ]
  },
  {
   "cell_type": "code",
   "execution_count": 3,
   "id": "a647c99e",
   "metadata": {},
   "outputs": [],
   "source": [
    "list2 = [10, 30, 60]"
   ]
  },
  {
   "cell_type": "code",
   "execution_count": 6,
   "id": "a8619f74",
   "metadata": {},
   "outputs": [],
   "source": [
    "list3 = [10.77, 30.66, 60.89]"
   ]
  },
  {
   "cell_type": "code",
   "execution_count": 7,
   "id": "9c2d908e",
   "metadata": {},
   "outputs": [],
   "source": [
    "list4 = ['one', 'two', 'three']"
   ]
  },
  {
   "cell_type": "code",
   "execution_count": 8,
   "id": "a5051a55",
   "metadata": {},
   "outputs": [],
   "source": [
    "list5 = ['Dogu', 25, [50, 100], [150, 90]] #nested (iç içe) listeler"
   ]
  },
  {
   "cell_type": "code",
   "execution_count": 9,
   "id": "6eb1ef24",
   "metadata": {},
   "outputs": [],
   "source": [
    "list6 = [100, 'Dogu', 17.765]"
   ]
  },
  {
   "cell_type": "code",
   "execution_count": 10,
   "id": "262a2ea5",
   "metadata": {},
   "outputs": [],
   "source": [
    "list7 = ['Dogu', 25, [50, 100], [150, 90], {'John', 'David'}]"
   ]
  },
  {
   "cell_type": "code",
   "execution_count": 11,
   "id": "fe593be5",
   "metadata": {},
   "outputs": [
    {
     "data": {
      "text/plain": [
       "3"
      ]
     },
     "execution_count": 11,
     "metadata": {},
     "output_type": "execute_result"
    }
   ],
   "source": [
    "len(list6)"
   ]
  },
  {
   "cell_type": "code",
   "execution_count": 12,
   "id": "e2bd9387",
   "metadata": {},
   "outputs": [
    {
     "data": {
      "text/plain": [
       "10"
      ]
     },
     "execution_count": 12,
     "metadata": {},
     "output_type": "execute_result"
    }
   ],
   "source": [
    "#Liste Dizinleme (Indexing)\n",
    "\n",
    "list2[0] #Zero-based indexing "
   ]
  },
  {
   "cell_type": "code",
   "execution_count": 13,
   "id": "ee6a63b7",
   "metadata": {},
   "outputs": [
    {
     "data": {
      "text/plain": [
       "'one'"
      ]
     },
     "execution_count": 13,
     "metadata": {},
     "output_type": "execute_result"
    }
   ],
   "source": [
    "list4[0]"
   ]
  },
  {
   "cell_type": "code",
   "execution_count": 14,
   "id": "35fe9cdd",
   "metadata": {},
   "outputs": [
    {
     "data": {
      "text/plain": [
       "'o'"
      ]
     },
     "execution_count": 14,
     "metadata": {},
     "output_type": "execute_result"
    }
   ],
   "source": [
    "list4[0][0]"
   ]
  },
  {
   "cell_type": "code",
   "execution_count": 15,
   "id": "3ce656b2",
   "metadata": {},
   "outputs": [
    {
     "data": {
      "text/plain": [
       "'three'"
      ]
     },
     "execution_count": 15,
     "metadata": {},
     "output_type": "execute_result"
    }
   ],
   "source": [
    "list4[-1]"
   ]
  },
  {
   "cell_type": "code",
   "execution_count": 16,
   "id": "9998ed77",
   "metadata": {},
   "outputs": [
    {
     "data": {
      "text/plain": [
       "[150, 90]"
      ]
     },
     "execution_count": 16,
     "metadata": {},
     "output_type": "execute_result"
    }
   ],
   "source": [
    "list5[-1]"
   ]
  },
  {
   "cell_type": "code",
   "execution_count": 17,
   "id": "f416434a",
   "metadata": {},
   "outputs": [
    {
     "data": {
      "text/plain": [
       "['one', 'two', 'three']"
      ]
     },
     "execution_count": 17,
     "metadata": {},
     "output_type": "execute_result"
    }
   ],
   "source": [
    "#liste dilimleme (slicing)\n",
    "\n",
    "mylist = ['one', 'two', 'three', 'four', 'five', 'six', 'seven', 'eight']\n",
    "\n",
    "mylist[0:3]"
   ]
  },
  {
   "cell_type": "code",
   "execution_count": 18,
   "id": "64b08436",
   "metadata": {},
   "outputs": [
    {
     "data": {
      "text/plain": [
       "['three', 'four', 'five']"
      ]
     },
     "execution_count": 18,
     "metadata": {},
     "output_type": "execute_result"
    }
   ],
   "source": [
    "mylist[2:5]"
   ]
  },
  {
   "cell_type": "code",
   "execution_count": 19,
   "id": "4b0271cd",
   "metadata": {},
   "outputs": [
    {
     "data": {
      "text/plain": [
       "['one', 'two', 'three']"
      ]
     },
     "execution_count": 19,
     "metadata": {},
     "output_type": "execute_result"
    }
   ],
   "source": [
    "mylist[:3]"
   ]
  },
  {
   "cell_type": "code",
   "execution_count": 20,
   "id": "45036a15",
   "metadata": {},
   "outputs": [
    {
     "data": {
      "text/plain": [
       "['one', 'two']"
      ]
     },
     "execution_count": 20,
     "metadata": {},
     "output_type": "execute_result"
    }
   ],
   "source": [
    "mylist[:2]"
   ]
  },
  {
   "cell_type": "code",
   "execution_count": 21,
   "id": "e6f14488",
   "metadata": {},
   "outputs": [
    {
     "data": {
      "text/plain": [
       "['six', 'seven', 'eight']"
      ]
     },
     "execution_count": 21,
     "metadata": {},
     "output_type": "execute_result"
    }
   ],
   "source": [
    "mylist[-3:]"
   ]
  },
  {
   "cell_type": "code",
   "execution_count": 22,
   "id": "e16fffce",
   "metadata": {},
   "outputs": [
    {
     "data": {
      "text/plain": [
       "['seven', 'eight']"
      ]
     },
     "execution_count": 22,
     "metadata": {},
     "output_type": "execute_result"
    }
   ],
   "source": [
    "mylist[-2:]"
   ]
  },
  {
   "cell_type": "code",
   "execution_count": 23,
   "id": "1c99fb12",
   "metadata": {},
   "outputs": [
    {
     "data": {
      "text/plain": [
       "'eight'"
      ]
     },
     "execution_count": 23,
     "metadata": {},
     "output_type": "execute_result"
    }
   ],
   "source": [
    "mylist[-1]"
   ]
  },
  {
   "cell_type": "code",
   "execution_count": 24,
   "id": "a6149fda",
   "metadata": {},
   "outputs": [
    {
     "data": {
      "text/plain": [
       "['one', 'two', 'three', 'four', 'five', 'six', 'seven', 'eight']"
      ]
     },
     "execution_count": 24,
     "metadata": {},
     "output_type": "execute_result"
    }
   ],
   "source": [
    "mylist[:]"
   ]
  },
  {
   "cell_type": "code",
   "execution_count": 25,
   "id": "9838f7ec",
   "metadata": {},
   "outputs": [
    {
     "data": {
      "text/plain": [
       "['one', 'two', 'three', 'four', 'five', 'six', 'seven', 'eight']"
      ]
     },
     "execution_count": 25,
     "metadata": {},
     "output_type": "execute_result"
    }
   ],
   "source": [
    "mylist"
   ]
  },
  {
   "cell_type": "code",
   "execution_count": 26,
   "id": "fe470fee",
   "metadata": {},
   "outputs": [
    {
     "data": {
      "text/plain": [
       "['one', 'two', 'three', 'four', 'five', 'six', 'seven', 'eight', 'nine']"
      ]
     },
     "execution_count": 26,
     "metadata": {},
     "output_type": "execute_result"
    }
   ],
   "source": [
    "#ekleme, çıkarma, değiştirme metotları\n",
    "\n",
    "mylist.append('nine')\n",
    "mylist"
   ]
  },
  {
   "cell_type": "code",
   "execution_count": 27,
   "id": "1eddd614",
   "metadata": {},
   "outputs": [
    {
     "data": {
      "text/plain": [
       "['one', 'two', 'three', 'four', 'five', 'six', 'seven', 'eight', 'nine', 'ten']"
      ]
     },
     "execution_count": 27,
     "metadata": {},
     "output_type": "execute_result"
    }
   ],
   "source": [
    "mylist.insert(9, 'ten')\n",
    "mylist"
   ]
  },
  {
   "cell_type": "code",
   "execution_count": 28,
   "id": "c1a5d1ad",
   "metadata": {},
   "outputs": [
    {
     "data": {
      "text/plain": [
       "['zero',\n",
       " 'one',\n",
       " 'two',\n",
       " 'three',\n",
       " 'four',\n",
       " 'five',\n",
       " 'six',\n",
       " 'seven',\n",
       " 'eight',\n",
       " 'nine',\n",
       " 'ten']"
      ]
     },
     "execution_count": 28,
     "metadata": {},
     "output_type": "execute_result"
    }
   ],
   "source": [
    "mylist.insert(0, 'zero')\n",
    "mylist"
   ]
  },
  {
   "cell_type": "code",
   "execution_count": 29,
   "id": "5d4aefed",
   "metadata": {},
   "outputs": [
    {
     "data": {
      "text/plain": [
       "['zero',\n",
       " 'ONE',\n",
       " 'one',\n",
       " 'two',\n",
       " 'three',\n",
       " 'four',\n",
       " 'five',\n",
       " 'six',\n",
       " 'seven',\n",
       " 'eight',\n",
       " 'nine',\n",
       " 'ten']"
      ]
     },
     "execution_count": 29,
     "metadata": {},
     "output_type": "execute_result"
    }
   ],
   "source": [
    "mylist.insert(1, 'ONE')\n",
    "mylist"
   ]
  },
  {
   "cell_type": "code",
   "execution_count": 30,
   "id": "8f02d61a",
   "metadata": {},
   "outputs": [
    {
     "data": {
      "text/plain": [
       "['zero',\n",
       " 'one',\n",
       " 'two',\n",
       " 'three',\n",
       " 'four',\n",
       " 'five',\n",
       " 'six',\n",
       " 'seven',\n",
       " 'eight',\n",
       " 'nine',\n",
       " 'ten']"
      ]
     },
     "execution_count": 30,
     "metadata": {},
     "output_type": "execute_result"
    }
   ],
   "source": [
    "mylist.remove('ONE')\n",
    "mylist"
   ]
  },
  {
   "cell_type": "code",
   "execution_count": 31,
   "id": "4b32d9a3",
   "metadata": {},
   "outputs": [
    {
     "data": {
      "text/plain": [
       "['zero',\n",
       " 'one',\n",
       " 'two',\n",
       " 'three',\n",
       " 'four',\n",
       " 'five',\n",
       " 'six',\n",
       " 'seven',\n",
       " 'eight',\n",
       " 'nine']"
      ]
     },
     "execution_count": 31,
     "metadata": {},
     "output_type": "execute_result"
    }
   ],
   "source": [
    "mylist.pop()\n",
    "mylist"
   ]
  },
  {
   "cell_type": "code",
   "execution_count": 32,
   "id": "f781dc80",
   "metadata": {},
   "outputs": [
    {
     "data": {
      "text/plain": [
       "['zero', 'one', 'two', 'three', 'four', 'five', 'six', 'seven', 'nine']"
      ]
     },
     "execution_count": 32,
     "metadata": {},
     "output_type": "execute_result"
    }
   ],
   "source": [
    "mylist.pop(8)\n",
    "mylist"
   ]
  },
  {
   "cell_type": "code",
   "execution_count": 33,
   "id": "ea0c95c2",
   "metadata": {},
   "outputs": [
    {
     "data": {
      "text/plain": [
       "['zero', 'one', 'two', 'three', 'four', 'five', 'six', 'nine']"
      ]
     },
     "execution_count": 33,
     "metadata": {},
     "output_type": "execute_result"
    }
   ],
   "source": [
    "del mylist[7]\n",
    "mylist"
   ]
  },
  {
   "cell_type": "code",
   "execution_count": 35,
   "id": "079c4202",
   "metadata": {},
   "outputs": [
    {
     "name": "stdout",
     "output_type": "stream",
     "text": [
      "nine\n"
     ]
    }
   ],
   "source": [
    "a = mylist[7]\n",
    "print(a)"
   ]
  },
  {
   "cell_type": "code",
   "execution_count": 34,
   "id": "73ea6212",
   "metadata": {},
   "outputs": [
    {
     "data": {
      "text/plain": [
       "[1, 2, 3, 'three', 'four', 'five', 'six', 'nine']"
      ]
     },
     "execution_count": 34,
     "metadata": {},
     "output_type": "execute_result"
    }
   ],
   "source": [
    "mylist[0] = 1\n",
    "mylist[1] = 2\n",
    "mylist[2] = 3\n",
    "mylist"
   ]
  },
  {
   "cell_type": "code",
   "execution_count": 36,
   "id": "46a29c79",
   "metadata": {},
   "outputs": [
    {
     "data": {
      "text/plain": [
       "[]"
      ]
     },
     "execution_count": 36,
     "metadata": {},
     "output_type": "execute_result"
    }
   ],
   "source": [
    "mylist.clear()\n",
    "mylist"
   ]
  },
  {
   "cell_type": "code",
   "execution_count": 37,
   "id": "9d6b139e",
   "metadata": {},
   "outputs": [
    {
     "ename": "NameError",
     "evalue": "name 'mylist' is not defined",
     "output_type": "error",
     "traceback": [
      "\u001b[1;31m---------------------------------------------------------------------------\u001b[0m",
      "\u001b[1;31mNameError\u001b[0m                                 Traceback (most recent call last)",
      "\u001b[1;32m<ipython-input-37-e3998fd6e4af>\u001b[0m in \u001b[0;36m<module>\u001b[1;34m\u001b[0m\n\u001b[0;32m      1\u001b[0m \u001b[1;32mdel\u001b[0m \u001b[0mmylist\u001b[0m\u001b[1;33m\u001b[0m\u001b[1;33m\u001b[0m\u001b[0m\n\u001b[1;32m----> 2\u001b[1;33m \u001b[0mmylist\u001b[0m\u001b[1;33m\u001b[0m\u001b[1;33m\u001b[0m\u001b[0m\n\u001b[0m",
      "\u001b[1;31mNameError\u001b[0m: name 'mylist' is not defined"
     ]
    }
   ],
   "source": [
    "del mylist\n",
    "mylist"
   ]
  },
  {
   "cell_type": "code",
   "execution_count": 38,
   "id": "0b03b21b",
   "metadata": {},
   "outputs": [],
   "source": [
    "#listeleri kopyalama\n",
    "\n",
    "mylist = ['one', 'two', 'three', 'four', 'five', 'six', 'seven', 'eight', 'nine', 'ten']"
   ]
  },
  {
   "cell_type": "code",
   "execution_count": 39,
   "id": "ca4ccf1b",
   "metadata": {},
   "outputs": [],
   "source": [
    "mylist1 = mylist"
   ]
  },
  {
   "cell_type": "code",
   "execution_count": 40,
   "id": "3ee02c32",
   "metadata": {},
   "outputs": [
    {
     "data": {
      "text/plain": [
       "(3089765677824, 3089765677824)"
      ]
     },
     "execution_count": 40,
     "metadata": {},
     "output_type": "execute_result"
    }
   ],
   "source": [
    "id(mylist), id(mylist1)"
   ]
  },
  {
   "cell_type": "code",
   "execution_count": 41,
   "id": "39622e92",
   "metadata": {},
   "outputs": [],
   "source": [
    "mylist2 = mylist.copy()"
   ]
  },
  {
   "cell_type": "code",
   "execution_count": 42,
   "id": "42be09b3",
   "metadata": {},
   "outputs": [
    {
     "data": {
      "text/plain": [
       "3089766050368"
      ]
     },
     "execution_count": 42,
     "metadata": {},
     "output_type": "execute_result"
    }
   ],
   "source": [
    "id(mylist2)"
   ]
  },
  {
   "cell_type": "code",
   "execution_count": 43,
   "id": "56bf4b2d",
   "metadata": {},
   "outputs": [
    {
     "data": {
      "text/plain": [
       "[1, 'two', 'three', 'four', 'five', 'six', 'seven', 'eight', 'nine', 'ten']"
      ]
     },
     "execution_count": 43,
     "metadata": {},
     "output_type": "execute_result"
    }
   ],
   "source": [
    "mylist[0] = 1\n",
    "mylist"
   ]
  },
  {
   "cell_type": "code",
   "execution_count": 44,
   "id": "596e03eb",
   "metadata": {},
   "outputs": [
    {
     "data": {
      "text/plain": [
       "[1, 'two', 'three', 'four', 'five', 'six', 'seven', 'eight', 'nine', 'ten']"
      ]
     },
     "execution_count": 44,
     "metadata": {},
     "output_type": "execute_result"
    }
   ],
   "source": [
    "mylist1"
   ]
  },
  {
   "cell_type": "code",
   "execution_count": 45,
   "id": "46e40f0b",
   "metadata": {},
   "outputs": [
    {
     "data": {
      "text/plain": [
       "['one', 'two', 'three', 'four', 'five', 'six', 'seven', 'eight', 'nine', 'ten']"
      ]
     },
     "execution_count": 45,
     "metadata": {},
     "output_type": "execute_result"
    }
   ],
   "source": [
    "mylist2"
   ]
  },
  {
   "cell_type": "code",
   "execution_count": 49,
   "id": "e6b8dbff",
   "metadata": {},
   "outputs": [],
   "source": [
    "#listeleri birleştirme (join)\n",
    "\n",
    "list1 = ['one', 'two', 'three', 'four', 'five']\n",
    "list2 = ['five', 'six', 'seven', 'eight']"
   ]
  },
  {
   "cell_type": "code",
   "execution_count": 50,
   "id": "d4636b55",
   "metadata": {},
   "outputs": [
    {
     "data": {
      "text/plain": [
       "['one', 'two', 'three', 'four', 'five', 'five', 'six', 'seven', 'eight']"
      ]
     },
     "execution_count": 50,
     "metadata": {},
     "output_type": "execute_result"
    }
   ],
   "source": [
    "list3 = list1 + list2\n",
    "list3"
   ]
  },
  {
   "cell_type": "code",
   "execution_count": 51,
   "id": "32788fbb",
   "metadata": {},
   "outputs": [
    {
     "data": {
      "text/plain": [
       "['one', 'two', 'three', 'four', 'five', 'five', 'six', 'seven', 'eight']"
      ]
     },
     "execution_count": 51,
     "metadata": {},
     "output_type": "execute_result"
    }
   ],
   "source": [
    "list1.extend(list2)\n",
    "list1"
   ]
  },
  {
   "cell_type": "code",
   "execution_count": 52,
   "id": "d30545fd",
   "metadata": {},
   "outputs": [
    {
     "data": {
      "text/plain": [
       "['one', 'two', 'three', 'four', 'five', 'five', 'six', 'seven', 'eight']"
      ]
     },
     "execution_count": 52,
     "metadata": {},
     "output_type": "execute_result"
    }
   ],
   "source": [
    "#list üyelikleri (membership)\n",
    "\n",
    "list1"
   ]
  },
  {
   "cell_type": "code",
   "execution_count": 53,
   "id": "9c61f7c4",
   "metadata": {},
   "outputs": [
    {
     "data": {
      "text/plain": [
       "True"
      ]
     },
     "execution_count": 53,
     "metadata": {},
     "output_type": "execute_result"
    }
   ],
   "source": [
    "'one' in list1"
   ]
  },
  {
   "cell_type": "code",
   "execution_count": 54,
   "id": "9588cd55",
   "metadata": {},
   "outputs": [
    {
     "data": {
      "text/plain": [
       "False"
      ]
     },
     "execution_count": 54,
     "metadata": {},
     "output_type": "execute_result"
    }
   ],
   "source": [
    "'ten' in list1"
   ]
  },
  {
   "cell_type": "code",
   "execution_count": 55,
   "id": "a4990e92",
   "metadata": {},
   "outputs": [
    {
     "name": "stdout",
     "output_type": "stream",
     "text": [
      "three listede var\n"
     ]
    }
   ],
   "source": [
    "if 'three' in list1:\n",
    "    print('three listede var')\n",
    "else:\n",
    "    print('three listede yok')"
   ]
  },
  {
   "cell_type": "code",
   "execution_count": 57,
   "id": "af5b2250",
   "metadata": {},
   "outputs": [
    {
     "name": "stdout",
     "output_type": "stream",
     "text": [
      "eleven listede yok\n"
     ]
    }
   ],
   "source": [
    "if 'eleven' in list1:\n",
    "    print('eleven listede var')\n",
    "else:\n",
    "    print('eleven listede yok')"
   ]
  },
  {
   "cell_type": "code",
   "execution_count": 58,
   "id": "f5c9c82b",
   "metadata": {},
   "outputs": [],
   "source": [
    "#Liste üzerinde reverse & sort\n",
    "\n",
    "list1 = ['one', 'two', 'three', 'four', 'five', 'six', 'seven', 'eight']"
   ]
  },
  {
   "cell_type": "code",
   "execution_count": 59,
   "id": "14342f26",
   "metadata": {},
   "outputs": [
    {
     "data": {
      "text/plain": [
       "['one', 'two', 'three', 'four', 'five', 'six', 'seven', 'eight']"
      ]
     },
     "execution_count": 59,
     "metadata": {},
     "output_type": "execute_result"
    }
   ],
   "source": [
    "list1"
   ]
  },
  {
   "cell_type": "code",
   "execution_count": 60,
   "id": "b047a590",
   "metadata": {},
   "outputs": [
    {
     "data": {
      "text/plain": [
       "['eight', 'seven', 'six', 'five', 'four', 'three', 'two', 'one']"
      ]
     },
     "execution_count": 60,
     "metadata": {},
     "output_type": "execute_result"
    }
   ],
   "source": [
    "list1.reverse()\n",
    "list1"
   ]
  },
  {
   "cell_type": "code",
   "execution_count": 61,
   "id": "880256ef",
   "metadata": {},
   "outputs": [
    {
     "data": {
      "text/plain": [
       "['one', 'two', 'three', 'four', 'five', 'six', 'seven', 'eight']"
      ]
     },
     "execution_count": 61,
     "metadata": {},
     "output_type": "execute_result"
    }
   ],
   "source": [
    "list1 = list1[::-1]\n",
    "list1"
   ]
  },
  {
   "cell_type": "code",
   "execution_count": 66,
   "id": "0df08e69",
   "metadata": {},
   "outputs": [
    {
     "data": {
      "text/plain": [
       "[2, 5, 9, 12, 34, 88, 99]"
      ]
     },
     "execution_count": 66,
     "metadata": {},
     "output_type": "execute_result"
    }
   ],
   "source": [
    "mylist3 = [9, 5, 2, 99, 12, 88, 34]\n",
    "mylist3.sort()\n",
    "mylist3"
   ]
  },
  {
   "cell_type": "code",
   "execution_count": 67,
   "id": "5676c95f",
   "metadata": {},
   "outputs": [
    {
     "data": {
      "text/plain": [
       "[99, 88, 34, 12, 9, 5, 2]"
      ]
     },
     "execution_count": 67,
     "metadata": {},
     "output_type": "execute_result"
    }
   ],
   "source": [
    "mylist = [9, 5, 2, 99, 12, 88, 34]\n",
    "mylist3.sort(reverse = True)\n",
    "mylist3"
   ]
  },
  {
   "cell_type": "code",
   "execution_count": 68,
   "id": "4647dd04",
   "metadata": {},
   "outputs": [
    {
     "data": {
      "text/plain": [
       "[11, 21, 33, 65, 88, 98]"
      ]
     },
     "execution_count": 68,
     "metadata": {},
     "output_type": "execute_result"
    }
   ],
   "source": [
    "mylist4 = [88, 65, 33, 21, 11, 98]\n",
    "sorted(mylist4)"
   ]
  },
  {
   "cell_type": "code",
   "execution_count": 69,
   "id": "33656149",
   "metadata": {},
   "outputs": [
    {
     "data": {
      "text/plain": [
       "[88, 65, 33, 21, 11, 98]"
      ]
     },
     "execution_count": 69,
     "metadata": {},
     "output_type": "execute_result"
    }
   ],
   "source": [
    "mylist4"
   ]
  },
  {
   "cell_type": "code",
   "execution_count": 70,
   "id": "ddde0305",
   "metadata": {},
   "outputs": [
    {
     "name": "stdout",
     "output_type": "stream",
     "text": [
      "['__add__', '__class__', '__contains__', '__delattr__', '__delitem__', '__dir__', '__doc__', '__eq__', '__format__', '__ge__', '__getattribute__', '__getitem__', '__gt__', '__hash__', '__iadd__', '__imul__', '__init__', '__init_subclass__', '__iter__', '__le__', '__len__', '__lt__', '__mul__', '__ne__', '__new__', '__reduce__', '__reduce_ex__', '__repr__', '__reversed__', '__rmul__', '__setattr__', '__setitem__', '__sizeof__', '__str__', '__subclasshook__', 'append', 'clear', 'copy', 'count', 'extend', 'index', 'insert', 'pop', 'remove', 'reverse', 'sort']\n"
     ]
    }
   ],
   "source": [
    "print(dir(list))"
   ]
  },
  {
   "cell_type": "code",
   "execution_count": 72,
   "id": "b62ad52d",
   "metadata": {},
   "outputs": [],
   "source": [
    "list1 = ['one', 'two', 'three', 'four', 'five', 'six', 'seven', 'eight']"
   ]
  },
  {
   "cell_type": "code",
   "execution_count": 74,
   "id": "6a26c55b",
   "metadata": {},
   "outputs": [
    {
     "name": "stdout",
     "output_type": "stream",
     "text": [
      "one  two  three  four  five  six  seven  eight  "
     ]
    }
   ],
   "source": [
    "for i in list1:\n",
    "    print(i, end = '  ')"
   ]
  },
  {
   "cell_type": "code",
   "execution_count": 75,
   "id": "55c8034e",
   "metadata": {},
   "outputs": [
    {
     "name": "stdout",
     "output_type": "stream",
     "text": [
      "(0, 'one')  (1, 'two')  (2, 'three')  (3, 'four')  (4, 'five')  (5, 'six')  (6, 'seven')  (7, 'eight')  "
     ]
    }
   ],
   "source": [
    "for i in enumerate(list1):\n",
    "    print(i, end = '  ')"
   ]
  },
  {
   "cell_type": "code",
   "execution_count": 76,
   "id": "ad18e144",
   "metadata": {},
   "outputs": [
    {
     "data": {
      "text/plain": [
       "3"
      ]
     },
     "execution_count": 76,
     "metadata": {},
     "output_type": "execute_result"
    }
   ],
   "source": [
    "list10 = ['one', 'two', 'three', 'four', 'one', 'one', 'two', 'three']\n",
    "list10.count('one')"
   ]
  },
  {
   "cell_type": "code",
   "execution_count": 77,
   "id": "7019befe",
   "metadata": {},
   "outputs": [
    {
     "data": {
      "text/plain": [
       "2"
      ]
     },
     "execution_count": 77,
     "metadata": {},
     "output_type": "execute_result"
    }
   ],
   "source": [
    "list10.count('two')"
   ]
  },
  {
   "cell_type": "code",
   "execution_count": 78,
   "id": "6c5413f9",
   "metadata": {},
   "outputs": [
    {
     "data": {
      "text/plain": [
       "1"
      ]
     },
     "execution_count": 78,
     "metadata": {},
     "output_type": "execute_result"
    }
   ],
   "source": [
    "list10.count('four')"
   ]
  },
  {
   "cell_type": "code",
   "execution_count": 79,
   "id": "90504f61",
   "metadata": {},
   "outputs": [],
   "source": [
    "#all() - any() metotları\n",
    "#all() -> listedeki tüm elemanlar True ise all() metodu True, değilse False döndürür.\n",
    "#any() -> listedeki herhangi bir eleman True ise any() metodu True, değilse False döndürür."
   ]
  },
  {
   "cell_type": "code",
   "execution_count": 80,
   "id": "450bd52e",
   "metadata": {},
   "outputs": [
    {
     "data": {
      "text/plain": [
       "False"
      ]
     },
     "execution_count": 80,
     "metadata": {},
     "output_type": "execute_result"
    }
   ],
   "source": [
    "L1 = [1, 2, 3, 4, 0]\n",
    "all(L1)"
   ]
  },
  {
   "cell_type": "code",
   "execution_count": 82,
   "id": "fb4ae4a4",
   "metadata": {},
   "outputs": [
    {
     "data": {
      "text/plain": [
       "True"
      ]
     },
     "execution_count": 82,
     "metadata": {},
     "output_type": "execute_result"
    }
   ],
   "source": [
    "any(L1)"
   ]
  },
  {
   "cell_type": "code",
   "execution_count": 83,
   "id": "0ea09ed5",
   "metadata": {},
   "outputs": [
    {
     "data": {
      "text/plain": [
       "False"
      ]
     },
     "execution_count": 83,
     "metadata": {},
     "output_type": "execute_result"
    }
   ],
   "source": [
    "L2 = [1, 2, 3, 4, True, False]\n",
    "all(L2)"
   ]
  },
  {
   "cell_type": "code",
   "execution_count": 84,
   "id": "30f246a3",
   "metadata": {},
   "outputs": [
    {
     "data": {
      "text/plain": [
       "True"
      ]
     },
     "execution_count": 84,
     "metadata": {},
     "output_type": "execute_result"
    }
   ],
   "source": [
    "any(L2)"
   ]
  },
  {
   "cell_type": "code",
   "execution_count": 85,
   "id": "136fd79a",
   "metadata": {},
   "outputs": [
    {
     "data": {
      "text/plain": [
       "True"
      ]
     },
     "execution_count": 85,
     "metadata": {},
     "output_type": "execute_result"
    }
   ],
   "source": [
    "L3 = [1, 2, 3, True]\n",
    "all(L3)"
   ]
  },
  {
   "cell_type": "code",
   "execution_count": 86,
   "id": "450a397f",
   "metadata": {},
   "outputs": [
    {
     "data": {
      "text/plain": [
       "True"
      ]
     },
     "execution_count": 86,
     "metadata": {},
     "output_type": "execute_result"
    }
   ],
   "source": [
    "any(L3)"
   ]
  },
  {
   "cell_type": "code",
   "execution_count": 87,
   "id": "5ff40aba",
   "metadata": {},
   "outputs": [],
   "source": [
    "tup1 = ()"
   ]
  },
  {
   "cell_type": "code",
   "execution_count": 88,
   "id": "3341b05d",
   "metadata": {},
   "outputs": [],
   "source": [
    "tup2 = (10, 30, 60)"
   ]
  },
  {
   "cell_type": "code",
   "execution_count": 89,
   "id": "24a5b8b1",
   "metadata": {},
   "outputs": [],
   "source": [
    "tup3 = (10.77, 30.66, 60.89)"
   ]
  },
  {
   "cell_type": "code",
   "execution_count": 90,
   "id": "6077a810",
   "metadata": {},
   "outputs": [],
   "source": [
    "tup4 = ('one', 'two', 'three')"
   ]
  },
  {
   "cell_type": "code",
   "execution_count": 91,
   "id": "d504f2e0",
   "metadata": {},
   "outputs": [],
   "source": [
    "tup5 = ('Dogu', 25, (50, 100), (150, 90))"
   ]
  },
  {
   "cell_type": "code",
   "execution_count": 92,
   "id": "15f38e86",
   "metadata": {},
   "outputs": [],
   "source": [
    "tup6 = (100, 'Dogu', 17.765)"
   ]
  },
  {
   "cell_type": "code",
   "execution_count": 93,
   "id": "dc062e98",
   "metadata": {},
   "outputs": [],
   "source": [
    "tup7 = ('Dogu', 25, [50, 100], [150, 90], {'John', 'David'}, (99, 22, 33))"
   ]
  },
  {
   "cell_type": "code",
   "execution_count": 94,
   "id": "81af59c2",
   "metadata": {},
   "outputs": [
    {
     "data": {
      "text/plain": [
       "6"
      ]
     },
     "execution_count": 94,
     "metadata": {},
     "output_type": "execute_result"
    }
   ],
   "source": [
    "len(tup7)"
   ]
  },
  {
   "cell_type": "code",
   "execution_count": 95,
   "id": "f96f4250",
   "metadata": {},
   "outputs": [
    {
     "data": {
      "text/plain": [
       "10"
      ]
     },
     "execution_count": 95,
     "metadata": {},
     "output_type": "execute_result"
    }
   ],
   "source": [
    "tup2[0]"
   ]
  },
  {
   "cell_type": "code",
   "execution_count": 96,
   "id": "fddca17e",
   "metadata": {},
   "outputs": [
    {
     "data": {
      "text/plain": [
       "'one'"
      ]
     },
     "execution_count": 96,
     "metadata": {},
     "output_type": "execute_result"
    }
   ],
   "source": [
    "tup4[0]"
   ]
  },
  {
   "cell_type": "code",
   "execution_count": 97,
   "id": "41c5cdf2",
   "metadata": {},
   "outputs": [
    {
     "data": {
      "text/plain": [
       "'o'"
      ]
     },
     "execution_count": 97,
     "metadata": {},
     "output_type": "execute_result"
    }
   ],
   "source": [
    "tup4[0][0]"
   ]
  },
  {
   "cell_type": "code",
   "execution_count": 98,
   "id": "fd2c7934",
   "metadata": {},
   "outputs": [
    {
     "data": {
      "text/plain": [
       "'three'"
      ]
     },
     "execution_count": 98,
     "metadata": {},
     "output_type": "execute_result"
    }
   ],
   "source": [
    "tup4[-1]"
   ]
  },
  {
   "cell_type": "code",
   "execution_count": 99,
   "id": "8d1d6a5f",
   "metadata": {},
   "outputs": [
    {
     "data": {
      "text/plain": [
       "(150, 90)"
      ]
     },
     "execution_count": 99,
     "metadata": {},
     "output_type": "execute_result"
    }
   ],
   "source": [
    "tup5[-1]"
   ]
  },
  {
   "cell_type": "code",
   "execution_count": 100,
   "id": "d8f666bc",
   "metadata": {},
   "outputs": [],
   "source": [
    "#tuple dilimleme (slicing)\n",
    "\n",
    "mytuple = ('one', 'two', 'three', 'four', 'five', 'six', 'seven', 'eight')"
   ]
  },
  {
   "cell_type": "code",
   "execution_count": 101,
   "id": "e9d7839f",
   "metadata": {},
   "outputs": [
    {
     "data": {
      "text/plain": [
       "('one', 'two', 'three')"
      ]
     },
     "execution_count": 101,
     "metadata": {},
     "output_type": "execute_result"
    }
   ],
   "source": [
    "mytuple[0:3]"
   ]
  },
  {
   "cell_type": "code",
   "execution_count": 102,
   "id": "6e6079b9",
   "metadata": {},
   "outputs": [
    {
     "data": {
      "text/plain": [
       "('three', 'four', 'five')"
      ]
     },
     "execution_count": 102,
     "metadata": {},
     "output_type": "execute_result"
    }
   ],
   "source": [
    "mytuple[2:5]"
   ]
  },
  {
   "cell_type": "code",
   "execution_count": 103,
   "id": "44b8c4c7",
   "metadata": {},
   "outputs": [
    {
     "data": {
      "text/plain": [
       "('one', 'two', 'three')"
      ]
     },
     "execution_count": 103,
     "metadata": {},
     "output_type": "execute_result"
    }
   ],
   "source": [
    "mytuple[:3]"
   ]
  },
  {
   "cell_type": "code",
   "execution_count": 104,
   "id": "5394ab2e",
   "metadata": {},
   "outputs": [
    {
     "data": {
      "text/plain": [
       "('one', 'two')"
      ]
     },
     "execution_count": 104,
     "metadata": {},
     "output_type": "execute_result"
    }
   ],
   "source": [
    "mytuple[:2]"
   ]
  },
  {
   "cell_type": "code",
   "execution_count": 105,
   "id": "05a2045b",
   "metadata": {},
   "outputs": [
    {
     "data": {
      "text/plain": [
       "('six', 'seven', 'eight')"
      ]
     },
     "execution_count": 105,
     "metadata": {},
     "output_type": "execute_result"
    }
   ],
   "source": [
    "mytuple[-3:]"
   ]
  },
  {
   "cell_type": "code",
   "execution_count": 106,
   "id": "99e233db",
   "metadata": {},
   "outputs": [
    {
     "data": {
      "text/plain": [
       "('seven', 'eight')"
      ]
     },
     "execution_count": 106,
     "metadata": {},
     "output_type": "execute_result"
    }
   ],
   "source": [
    "mytuple[-2:]"
   ]
  },
  {
   "cell_type": "code",
   "execution_count": 113,
   "id": "23b08a6d",
   "metadata": {},
   "outputs": [
    {
     "name": "stdout",
     "output_type": "stream",
     "text": [
      "lütfen bir sayı giriniz: 1980\n",
      "1980.0 listede yok\n"
     ]
    }
   ],
   "source": [
    "list1 = [10, 12, 12.213, 21.31]\n",
    "x = float(input(\"lütfen bir sayı giriniz: \"))\n",
    "if x in list1:\n",
    "    print(f\"{x} listede var\")\n",
    "else:\n",
    "    print(\"{} listede yok\".format(x))\n"
   ]
  },
  {
   "cell_type": "code",
   "execution_count": 116,
   "id": "d8e101a1",
   "metadata": {},
   "outputs": [
    {
     "name": "stdout",
     "output_type": "stream",
     "text": [
      "<class 'tuple'>\n"
     ]
    }
   ],
   "source": [
    "mytuple = (\"str\") #mystr = 'str'\n",
    "print(type(mytuple))"
   ]
  },
  {
   "cell_type": "code",
   "execution_count": 117,
   "id": "01192127",
   "metadata": {},
   "outputs": [],
   "source": [
    "mytuple2 = ('one', 'two', 'three', 'four', 'five', 'six', 'seven', 'eight')"
   ]
  },
  {
   "cell_type": "code",
   "execution_count": 119,
   "id": "3a620a18",
   "metadata": {},
   "outputs": [
    {
     "data": {
      "text/plain": [
       "('one', 'two', 'three', 'four', 'five', 'six', 'seven', 'eight')"
      ]
     },
     "execution_count": 119,
     "metadata": {},
     "output_type": "execute_result"
    }
   ],
   "source": [
    "mytuple2[:]"
   ]
  },
  {
   "cell_type": "code",
   "execution_count": null,
   "id": "e64b4eaf",
   "metadata": {},
   "outputs": [],
   "source": []
  }
 ],
 "metadata": {
  "kernelspec": {
   "display_name": "Python 3",
   "language": "python",
   "name": "python3"
  },
  "language_info": {
   "codemirror_mode": {
    "name": "ipython",
    "version": 3
   },
   "file_extension": ".py",
   "mimetype": "text/x-python",
   "name": "python",
   "nbconvert_exporter": "python",
   "pygments_lexer": "ipython3",
   "version": "3.8.8"
  }
 },
 "nbformat": 4,
 "nbformat_minor": 5
}
